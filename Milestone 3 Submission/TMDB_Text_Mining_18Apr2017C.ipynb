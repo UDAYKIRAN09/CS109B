{
 "cells": [
  {
   "cell_type": "markdown",
   "metadata": {},
   "source": [
    "# CS 109B - Course Project - Team 14\n",
    "## Text Mining - The Movie Database - Movie Overviews"
   ]
  },
  {
   "cell_type": "code",
   "execution_count": 76,
   "metadata": {},
   "outputs": [],
   "source": [
    "import numpy as np\n",
    "import os.path as op\n",
    "import pandas as pd\n",
    "\n",
    "from matplotlib import pyplot as plt\n",
    "from sklearn.cross_validation import KFold\n",
    "from sklearn.model_selection import train_test_split as sk_split\n",
    "from sklearn.decomposition import TruncatedSVD as tSVD\n",
    "from sklearn.feature_extraction.text import CountVectorizer\n",
    "from sklearn.feature_extraction.text import TfidfVectorizer\n",
    "from scipy.io import mmwrite\n",
    "from sklearn.discriminant_analysis import LinearDiscriminantAnalysis as LDA\n",
    "from sklearn.discriminant_analysis import QuadraticDiscriminantAnalysis as QDA\n",
    "from sklearn.ensemble import AdaBoostClassifier as Boost\n",
    "from sklearn.ensemble import RandomForestClassifier as RFC\n",
    "from sklearn.linear_model import LinearRegression as Lin_Reg\n",
    "from sklearn.linear_model import LogisticRegression as Log_Reg\n",
    "from sklearn.neighbors import KNeighborsClassifier as KNN\n",
    "from sklearn.svm import SVC\n",
    "\n",
    "from IPython.display import display, HTML, Markdown\n",
    "%matplotlib inline\n",
    "plt.style.use('ggplot') \n",
    "def printmd(string):\n",
    "    display(Markdown(string))"
   ]
  },
  {
   "cell_type": "code",
   "execution_count": 2,
   "metadata": {
    "collapsed": true
   },
   "outputs": [],
   "source": [
    "genres = [\"Action\", \"Adventure\", \"Animation\", \"Comedy\", \"Crime\", \"Doc\", \"Drama\", \\\n",
    "            \"Family\", \"Fantasy\", \"History\", \"Horror\", \"Music\", \"Mystery\", \\\n",
    "          \"Romance\", \"Sci_Fi\", \"Thriller\", \"War\", \"Western\"]\n",
    "\n",
    "num_genres = len(genres)\n",
    "num_non_genre_cols = 2\n",
    "\n",
    "train_percent = 80"
   ]
  },
  {
   "cell_type": "markdown",
   "metadata": {},
   "source": [
    "## Step 1: Load and Clean Data"
   ]
  },
  {
   "cell_type": "code",
   "execution_count": 3,
   "metadata": {
    "collapsed": true
   },
   "outputs": [],
   "source": [
    "# helper function to select the columns of interest from the data set\n",
    "def Select_Data(data):\n",
    "    \n",
    "    features_to_select = [\"overview\", 'imdb_id'] + genres\n",
    "    data_select = data[features_to_select]\n",
    "    data_select.columns = [\"Overview\", \"Imdb_Id\"] + genres\n",
    "    \n",
    "    return data_select"
   ]
  },
  {
   "cell_type": "code",
   "execution_count": 4,
   "metadata": {
    "collapsed": true
   },
   "outputs": [],
   "source": [
    "# helper function to filter the data set down to rows of interest\n",
    "def Filter_Data(data):\n",
    "    \n",
    "    # set flags for filtering\n",
    "    status_flags =  ~data.Overview.isnull() & \\\n",
    "                    ~data.Overview.str.match('NA', na = False)          \n",
    "                \n",
    "    # filter rows per flags above\n",
    "    data_filter = data.ix[status_flags, :].reset_index(drop = True)\n",
    "    \n",
    "    return data_filter"
   ]
  },
  {
   "cell_type": "code",
   "execution_count": 5,
   "metadata": {
    "collapsed": true
   },
   "outputs": [],
   "source": [
    "# helper function to clean data\n",
    "def Clean_Data(data):\n",
    "    data_clean = data.copy()\n",
    "    data_clean.Overview = data_clean.Overview.str.replace(\"\\n|\\r\", ' ')\n",
    "        \n",
    "    return data_clean"
   ]
  },
  {
   "cell_type": "code",
   "execution_count": 6,
   "metadata": {
    "collapsed": true
   },
   "outputs": [],
   "source": [
    "def Preprocess_Dataset():\n",
    "    clean_data_filename = \"clean_tmdb_data_with_Y.csv\"\n",
    "\n",
    "    # preprocess data set and save result as new file\n",
    "    if not op.isfile(clean_data_filename):\n",
    "        data_raw = pd.read_csv(\"tmdb_data_with_Y.csv\")\n",
    "        data_select = Select_Data(data_raw)\n",
    "        data_filter = Filter_Data(data_select)\n",
    "        data_clean = Clean_Data(data_filter)\n",
    "        data_clean.to_csv(clean_data_filename, index = False)\n",
    "\n",
    "    # read pre-processed sample data file\n",
    "    data_clean2 = pd.read_csv(clean_data_filename)\n",
    "        \n",
    "    return data_clean2"
   ]
  },
  {
   "cell_type": "code",
   "execution_count": 7,
   "metadata": {
    "collapsed": true
   },
   "outputs": [],
   "source": [
    "# pre-process or load data for analysis\n",
    "data = Preprocess_Dataset()   \n",
    "\n",
    "# set boolean and string column data types\n",
    "data.Overview = data.Overview.astype('str')\n",
    "\n",
    "# split data into train vs. test sets\n",
    "data_train, data_test = sk_split(data, train_size = train_percent / 100.0)"
   ]
  },
  {
   "cell_type": "code",
   "execution_count": 8,
   "metadata": {
    "scrolled": false
   },
   "outputs": [
    {
     "name": "stdout",
     "output_type": "stream",
     "text": [
      "\n",
      "Data dimensions: (26451, 20)\n"
     ]
    },
    {
     "data": {
      "text/html": [
       "<div>\n",
       "<table border=\"1\" class=\"dataframe\">\n",
       "  <thead>\n",
       "    <tr style=\"text-align: right;\">\n",
       "      <th></th>\n",
       "      <th>Overview</th>\n",
       "      <th>Imdb_Id</th>\n",
       "      <th>Action</th>\n",
       "      <th>Adventure</th>\n",
       "      <th>Animation</th>\n",
       "      <th>Comedy</th>\n",
       "      <th>Crime</th>\n",
       "      <th>Doc</th>\n",
       "      <th>Drama</th>\n",
       "      <th>Family</th>\n",
       "      <th>Fantasy</th>\n",
       "      <th>History</th>\n",
       "      <th>Horror</th>\n",
       "      <th>Music</th>\n",
       "      <th>Mystery</th>\n",
       "      <th>Romance</th>\n",
       "      <th>Sci_Fi</th>\n",
       "      <th>Thriller</th>\n",
       "      <th>War</th>\n",
       "      <th>Western</th>\n",
       "    </tr>\n",
       "  </thead>\n",
       "  <tbody>\n",
       "    <tr>\n",
       "      <th>14562</th>\n",
       "      <td>When Martians suddenly abduct his mom, mischie...</td>\n",
       "      <td>1305591</td>\n",
       "      <td>0.0</td>\n",
       "      <td>1.0</td>\n",
       "      <td>1.0</td>\n",
       "      <td>0.0</td>\n",
       "      <td>0.0</td>\n",
       "      <td>0.0</td>\n",
       "      <td>0.0</td>\n",
       "      <td>1.0</td>\n",
       "      <td>0.0</td>\n",
       "      <td>0.0</td>\n",
       "      <td>0.0</td>\n",
       "      <td>0.0</td>\n",
       "      <td>0.0</td>\n",
       "      <td>0.0</td>\n",
       "      <td>0.0</td>\n",
       "      <td>0.0</td>\n",
       "      <td>0.0</td>\n",
       "      <td>0.0</td>\n",
       "    </tr>\n",
       "    <tr>\n",
       "      <th>32013</th>\n",
       "      <td>Lorsque Julien Foucault, maître d'hôtel de la ...</td>\n",
       "      <td>1314240</td>\n",
       "      <td>0.0</td>\n",
       "      <td>0.0</td>\n",
       "      <td>0.0</td>\n",
       "      <td>1.0</td>\n",
       "      <td>0.0</td>\n",
       "      <td>0.0</td>\n",
       "      <td>0.0</td>\n",
       "      <td>0.0</td>\n",
       "      <td>0.0</td>\n",
       "      <td>0.0</td>\n",
       "      <td>0.0</td>\n",
       "      <td>0.0</td>\n",
       "      <td>0.0</td>\n",
       "      <td>0.0</td>\n",
       "      <td>0.0</td>\n",
       "      <td>0.0</td>\n",
       "      <td>0.0</td>\n",
       "      <td>0.0</td>\n",
       "    </tr>\n",
       "    <tr>\n",
       "      <th>27122</th>\n",
       "      <td>Elmer does not want to leave Gentryville, beca...</td>\n",
       "      <td>23982</td>\n",
       "      <td>0.0</td>\n",
       "      <td>0.0</td>\n",
       "      <td>0.0</td>\n",
       "      <td>1.0</td>\n",
       "      <td>0.0</td>\n",
       "      <td>0.0</td>\n",
       "      <td>0.0</td>\n",
       "      <td>0.0</td>\n",
       "      <td>0.0</td>\n",
       "      <td>0.0</td>\n",
       "      <td>0.0</td>\n",
       "      <td>0.0</td>\n",
       "      <td>0.0</td>\n",
       "      <td>0.0</td>\n",
       "      <td>0.0</td>\n",
       "      <td>0.0</td>\n",
       "      <td>0.0</td>\n",
       "      <td>0.0</td>\n",
       "    </tr>\n",
       "    <tr>\n",
       "      <th>21392</th>\n",
       "      <td>Odessa is a beautiful girl addicted to the att...</td>\n",
       "      <td>1031658</td>\n",
       "      <td>0.0</td>\n",
       "      <td>0.0</td>\n",
       "      <td>0.0</td>\n",
       "      <td>0.0</td>\n",
       "      <td>0.0</td>\n",
       "      <td>0.0</td>\n",
       "      <td>1.0</td>\n",
       "      <td>0.0</td>\n",
       "      <td>0.0</td>\n",
       "      <td>0.0</td>\n",
       "      <td>0.0</td>\n",
       "      <td>0.0</td>\n",
       "      <td>0.0</td>\n",
       "      <td>0.0</td>\n",
       "      <td>0.0</td>\n",
       "      <td>0.0</td>\n",
       "      <td>0.0</td>\n",
       "      <td>0.0</td>\n",
       "    </tr>\n",
       "    <tr>\n",
       "      <th>17691</th>\n",
       "      <td>Double the Girls, Double the Guns!! For Mikura...</td>\n",
       "      <td>427531</td>\n",
       "      <td>1.0</td>\n",
       "      <td>0.0</td>\n",
       "      <td>1.0</td>\n",
       "      <td>0.0</td>\n",
       "      <td>0.0</td>\n",
       "      <td>0.0</td>\n",
       "      <td>0.0</td>\n",
       "      <td>0.0</td>\n",
       "      <td>0.0</td>\n",
       "      <td>0.0</td>\n",
       "      <td>0.0</td>\n",
       "      <td>0.0</td>\n",
       "      <td>0.0</td>\n",
       "      <td>0.0</td>\n",
       "      <td>0.0</td>\n",
       "      <td>1.0</td>\n",
       "      <td>0.0</td>\n",
       "      <td>0.0</td>\n",
       "    </tr>\n",
       "  </tbody>\n",
       "</table>\n",
       "</div>"
      ],
      "text/plain": [
       "                                                Overview  Imdb_Id  Action  \\\n",
       "14562  When Martians suddenly abduct his mom, mischie...  1305591     0.0   \n",
       "32013  Lorsque Julien Foucault, maître d'hôtel de la ...  1314240     0.0   \n",
       "27122  Elmer does not want to leave Gentryville, beca...    23982     0.0   \n",
       "21392  Odessa is a beautiful girl addicted to the att...  1031658     0.0   \n",
       "17691  Double the Girls, Double the Guns!! For Mikura...   427531     1.0   \n",
       "\n",
       "       Adventure  Animation  Comedy  Crime  Doc  Drama  Family  Fantasy  \\\n",
       "14562        1.0        1.0     0.0    0.0  0.0    0.0     1.0      0.0   \n",
       "32013        0.0        0.0     1.0    0.0  0.0    0.0     0.0      0.0   \n",
       "27122        0.0        0.0     1.0    0.0  0.0    0.0     0.0      0.0   \n",
       "21392        0.0        0.0     0.0    0.0  0.0    1.0     0.0      0.0   \n",
       "17691        0.0        1.0     0.0    0.0  0.0    0.0     0.0      0.0   \n",
       "\n",
       "       History  Horror  Music  Mystery  Romance  Sci_Fi  Thriller  War  \\\n",
       "14562      0.0     0.0    0.0      0.0      0.0     0.0       0.0  0.0   \n",
       "32013      0.0     0.0    0.0      0.0      0.0     0.0       0.0  0.0   \n",
       "27122      0.0     0.0    0.0      0.0      0.0     0.0       0.0  0.0   \n",
       "21392      0.0     0.0    0.0      0.0      0.0     0.0       0.0  0.0   \n",
       "17691      0.0     0.0    0.0      0.0      0.0     0.0       1.0  0.0   \n",
       "\n",
       "       Western  \n",
       "14562      0.0  \n",
       "32013      0.0  \n",
       "27122      0.0  \n",
       "21392      0.0  \n",
       "17691      0.0  "
      ]
     },
     "metadata": {},
     "output_type": "display_data"
    }
   ],
   "source": [
    "# get overview of data\n",
    "print\n",
    "print(\"Data dimensions: \" + str(data_train.shape))\n",
    "display(data_train.head())"
   ]
  },
  {
   "cell_type": "code",
   "execution_count": 9,
   "metadata": {
    "scrolled": true
   },
   "outputs": [
    {
     "data": {
      "text/html": [
       "<div>\n",
       "<table border=\"1\" class=\"dataframe\">\n",
       "  <thead>\n",
       "    <tr style=\"text-align: right;\">\n",
       "      <th></th>\n",
       "      <th>Imdb_Id</th>\n",
       "      <th>Action</th>\n",
       "      <th>Adventure</th>\n",
       "      <th>Animation</th>\n",
       "      <th>Comedy</th>\n",
       "      <th>Crime</th>\n",
       "      <th>Doc</th>\n",
       "      <th>Drama</th>\n",
       "      <th>Family</th>\n",
       "      <th>Fantasy</th>\n",
       "      <th>History</th>\n",
       "      <th>Horror</th>\n",
       "      <th>Music</th>\n",
       "      <th>Mystery</th>\n",
       "      <th>Romance</th>\n",
       "      <th>Sci_Fi</th>\n",
       "      <th>Thriller</th>\n",
       "      <th>War</th>\n",
       "      <th>Western</th>\n",
       "    </tr>\n",
       "  </thead>\n",
       "  <tbody>\n",
       "    <tr>\n",
       "      <th>count</th>\n",
       "      <td>2.645100e+04</td>\n",
       "      <td>26451.000000</td>\n",
       "      <td>26451.000000</td>\n",
       "      <td>26451.000000</td>\n",
       "      <td>26451.000000</td>\n",
       "      <td>26451.000000</td>\n",
       "      <td>26451.000000</td>\n",
       "      <td>26451.000000</td>\n",
       "      <td>26451.000000</td>\n",
       "      <td>26451.000000</td>\n",
       "      <td>26451.000000</td>\n",
       "      <td>26451.000000</td>\n",
       "      <td>26451.000000</td>\n",
       "      <td>26451.000000</td>\n",
       "      <td>26451.000000</td>\n",
       "      <td>26451.000000</td>\n",
       "      <td>26451.000000</td>\n",
       "      <td>26451.000000</td>\n",
       "      <td>26451.000000</td>\n",
       "    </tr>\n",
       "    <tr>\n",
       "      <th>mean</th>\n",
       "      <td>8.451764e+05</td>\n",
       "      <td>0.140222</td>\n",
       "      <td>0.063816</td>\n",
       "      <td>0.036256</td>\n",
       "      <td>0.299044</td>\n",
       "      <td>0.087256</td>\n",
       "      <td>0.094552</td>\n",
       "      <td>0.477222</td>\n",
       "      <td>0.055385</td>\n",
       "      <td>0.041322</td>\n",
       "      <td>0.030547</td>\n",
       "      <td>0.108918</td>\n",
       "      <td>0.034101</td>\n",
       "      <td>0.048202</td>\n",
       "      <td>0.159540</td>\n",
       "      <td>0.061170</td>\n",
       "      <td>0.170164</td>\n",
       "      <td>0.028997</td>\n",
       "      <td>0.025784</td>\n",
       "    </tr>\n",
       "    <tr>\n",
       "      <th>std</th>\n",
       "      <td>1.131472e+06</td>\n",
       "      <td>0.347223</td>\n",
       "      <td>0.244430</td>\n",
       "      <td>0.186929</td>\n",
       "      <td>0.457848</td>\n",
       "      <td>0.282215</td>\n",
       "      <td>0.292601</td>\n",
       "      <td>0.499490</td>\n",
       "      <td>0.228735</td>\n",
       "      <td>0.199037</td>\n",
       "      <td>0.172090</td>\n",
       "      <td>0.311543</td>\n",
       "      <td>0.181492</td>\n",
       "      <td>0.214198</td>\n",
       "      <td>0.366186</td>\n",
       "      <td>0.239646</td>\n",
       "      <td>0.375784</td>\n",
       "      <td>0.167801</td>\n",
       "      <td>0.158492</td>\n",
       "    </tr>\n",
       "    <tr>\n",
       "      <th>min</th>\n",
       "      <td>3.000000e+00</td>\n",
       "      <td>0.000000</td>\n",
       "      <td>0.000000</td>\n",
       "      <td>0.000000</td>\n",
       "      <td>0.000000</td>\n",
       "      <td>0.000000</td>\n",
       "      <td>0.000000</td>\n",
       "      <td>0.000000</td>\n",
       "      <td>0.000000</td>\n",
       "      <td>0.000000</td>\n",
       "      <td>0.000000</td>\n",
       "      <td>0.000000</td>\n",
       "      <td>0.000000</td>\n",
       "      <td>0.000000</td>\n",
       "      <td>0.000000</td>\n",
       "      <td>0.000000</td>\n",
       "      <td>0.000000</td>\n",
       "      <td>0.000000</td>\n",
       "      <td>0.000000</td>\n",
       "    </tr>\n",
       "    <tr>\n",
       "      <th>25%</th>\n",
       "      <td>7.921150e+04</td>\n",
       "      <td>0.000000</td>\n",
       "      <td>0.000000</td>\n",
       "      <td>0.000000</td>\n",
       "      <td>0.000000</td>\n",
       "      <td>0.000000</td>\n",
       "      <td>0.000000</td>\n",
       "      <td>0.000000</td>\n",
       "      <td>0.000000</td>\n",
       "      <td>0.000000</td>\n",
       "      <td>0.000000</td>\n",
       "      <td>0.000000</td>\n",
       "      <td>0.000000</td>\n",
       "      <td>0.000000</td>\n",
       "      <td>0.000000</td>\n",
       "      <td>0.000000</td>\n",
       "      <td>0.000000</td>\n",
       "      <td>0.000000</td>\n",
       "      <td>0.000000</td>\n",
       "    </tr>\n",
       "    <tr>\n",
       "      <th>50%</th>\n",
       "      <td>2.572900e+05</td>\n",
       "      <td>0.000000</td>\n",
       "      <td>0.000000</td>\n",
       "      <td>0.000000</td>\n",
       "      <td>0.000000</td>\n",
       "      <td>0.000000</td>\n",
       "      <td>0.000000</td>\n",
       "      <td>0.000000</td>\n",
       "      <td>0.000000</td>\n",
       "      <td>0.000000</td>\n",
       "      <td>0.000000</td>\n",
       "      <td>0.000000</td>\n",
       "      <td>0.000000</td>\n",
       "      <td>0.000000</td>\n",
       "      <td>0.000000</td>\n",
       "      <td>0.000000</td>\n",
       "      <td>0.000000</td>\n",
       "      <td>0.000000</td>\n",
       "      <td>0.000000</td>\n",
       "    </tr>\n",
       "    <tr>\n",
       "      <th>75%</th>\n",
       "      <td>1.356579e+06</td>\n",
       "      <td>0.000000</td>\n",
       "      <td>0.000000</td>\n",
       "      <td>0.000000</td>\n",
       "      <td>1.000000</td>\n",
       "      <td>0.000000</td>\n",
       "      <td>0.000000</td>\n",
       "      <td>1.000000</td>\n",
       "      <td>0.000000</td>\n",
       "      <td>0.000000</td>\n",
       "      <td>0.000000</td>\n",
       "      <td>0.000000</td>\n",
       "      <td>0.000000</td>\n",
       "      <td>0.000000</td>\n",
       "      <td>0.000000</td>\n",
       "      <td>0.000000</td>\n",
       "      <td>0.000000</td>\n",
       "      <td>0.000000</td>\n",
       "      <td>0.000000</td>\n",
       "    </tr>\n",
       "    <tr>\n",
       "      <th>max</th>\n",
       "      <td>6.098922e+06</td>\n",
       "      <td>1.000000</td>\n",
       "      <td>1.000000</td>\n",
       "      <td>1.000000</td>\n",
       "      <td>1.000000</td>\n",
       "      <td>1.000000</td>\n",
       "      <td>1.000000</td>\n",
       "      <td>1.000000</td>\n",
       "      <td>1.000000</td>\n",
       "      <td>1.000000</td>\n",
       "      <td>1.000000</td>\n",
       "      <td>1.000000</td>\n",
       "      <td>1.000000</td>\n",
       "      <td>1.000000</td>\n",
       "      <td>1.000000</td>\n",
       "      <td>1.000000</td>\n",
       "      <td>1.000000</td>\n",
       "      <td>1.000000</td>\n",
       "      <td>1.000000</td>\n",
       "    </tr>\n",
       "  </tbody>\n",
       "</table>\n",
       "</div>"
      ],
      "text/plain": [
       "            Imdb_Id        Action     Adventure     Animation        Comedy  \\\n",
       "count  2.645100e+04  26451.000000  26451.000000  26451.000000  26451.000000   \n",
       "mean   8.451764e+05      0.140222      0.063816      0.036256      0.299044   \n",
       "std    1.131472e+06      0.347223      0.244430      0.186929      0.457848   \n",
       "min    3.000000e+00      0.000000      0.000000      0.000000      0.000000   \n",
       "25%    7.921150e+04      0.000000      0.000000      0.000000      0.000000   \n",
       "50%    2.572900e+05      0.000000      0.000000      0.000000      0.000000   \n",
       "75%    1.356579e+06      0.000000      0.000000      0.000000      1.000000   \n",
       "max    6.098922e+06      1.000000      1.000000      1.000000      1.000000   \n",
       "\n",
       "              Crime           Doc         Drama        Family       Fantasy  \\\n",
       "count  26451.000000  26451.000000  26451.000000  26451.000000  26451.000000   \n",
       "mean       0.087256      0.094552      0.477222      0.055385      0.041322   \n",
       "std        0.282215      0.292601      0.499490      0.228735      0.199037   \n",
       "min        0.000000      0.000000      0.000000      0.000000      0.000000   \n",
       "25%        0.000000      0.000000      0.000000      0.000000      0.000000   \n",
       "50%        0.000000      0.000000      0.000000      0.000000      0.000000   \n",
       "75%        0.000000      0.000000      1.000000      0.000000      0.000000   \n",
       "max        1.000000      1.000000      1.000000      1.000000      1.000000   \n",
       "\n",
       "            History        Horror         Music       Mystery       Romance  \\\n",
       "count  26451.000000  26451.000000  26451.000000  26451.000000  26451.000000   \n",
       "mean       0.030547      0.108918      0.034101      0.048202      0.159540   \n",
       "std        0.172090      0.311543      0.181492      0.214198      0.366186   \n",
       "min        0.000000      0.000000      0.000000      0.000000      0.000000   \n",
       "25%        0.000000      0.000000      0.000000      0.000000      0.000000   \n",
       "50%        0.000000      0.000000      0.000000      0.000000      0.000000   \n",
       "75%        0.000000      0.000000      0.000000      0.000000      0.000000   \n",
       "max        1.000000      1.000000      1.000000      1.000000      1.000000   \n",
       "\n",
       "             Sci_Fi      Thriller           War       Western  \n",
       "count  26451.000000  26451.000000  26451.000000  26451.000000  \n",
       "mean       0.061170      0.170164      0.028997      0.025784  \n",
       "std        0.239646      0.375784      0.167801      0.158492  \n",
       "min        0.000000      0.000000      0.000000      0.000000  \n",
       "25%        0.000000      0.000000      0.000000      0.000000  \n",
       "50%        0.000000      0.000000      0.000000      0.000000  \n",
       "75%        0.000000      0.000000      0.000000      0.000000  \n",
       "max        1.000000      1.000000      1.000000      1.000000  "
      ]
     },
     "execution_count": 9,
     "metadata": {},
     "output_type": "execute_result"
    }
   ],
   "source": [
    "# summarize data\n",
    "data_train.describe()"
   ]
  },
  {
   "cell_type": "markdown",
   "metadata": {},
   "source": [
    "## Step 2: Create NLP Features"
   ]
  },
  {
   "cell_type": "code",
   "execution_count": 10,
   "metadata": {
    "collapsed": true
   },
   "outputs": [],
   "source": [
    "# copy data for processing\n",
    "data_nlp_train = data_train.copy()\n",
    "data_nlp_test = data_test"
   ]
  },
  {
   "cell_type": "markdown",
   "metadata": {},
   "source": [
    "### Process Text"
   ]
  },
  {
   "cell_type": "markdown",
   "metadata": {},
   "source": [
    "For the training data, we proceed with the following steps:\n",
    "    \n",
    "1. Stem words to reduce noise in the data\n",
    "2. Fit a count vectorizer and build a document-term matrix\n",
    "3. Fit principal components and reduce the data\n",
    "\n",
    "Using a TF-IDF vectorizer, rather than a count vectorizer, gives similar prediction accuracy with this data set (not reported here). So we'll focus on the simpler counting approach for the remainder of this analysis."
   ]
  },
  {
   "cell_type": "code",
   "execution_count": 11,
   "metadata": {
    "collapsed": true
   },
   "outputs": [],
   "source": [
    "### set up word stemming\n",
    "\n",
    "from nltk.stem import SnowballStemmer\n",
    "\n",
    "stemmer = SnowballStemmer(language = 'english', ignore_stopwords = True)\n",
    "analyzer = TfidfVectorizer().build_analyzer()\n",
    "\n",
    "def stemmed_words(doc):\n",
    "    return (stemmer.stem(w) for w in analyzer(doc))\n",
    "\n",
    "def take(n, seq):\n",
    "    seq = iter(seq)\n",
    "    result = []\n",
    "    try:\n",
    "        for i in range(n):\n",
    "            result.append(seq.next())\n",
    "    except StopIteration:\n",
    "        pass\n",
    "    \n",
    "    return result"
   ]
  },
  {
   "cell_type": "markdown",
   "metadata": {},
   "source": [
    "#### Training Data"
   ]
  },
  {
   "cell_type": "code",
   "execution_count": 12,
   "metadata": {
    "collapsed": true
   },
   "outputs": [],
   "source": [
    "# stem words in Overview field (train)\n",
    "for index in range(data_nlp_train.shape[0]):\n",
    "    data_nlp_train.Overview.values[index] = \\\n",
    "        \" \".join(take(1000, stemmed_words(data_nlp_train.Overview.values[index])))"
   ]
  },
  {
   "cell_type": "code",
   "execution_count": 13,
   "metadata": {},
   "outputs": [
    {
     "name": "stdout",
     "output_type": "stream",
     "text": [
      "(26451, 43113)\n"
     ]
    }
   ],
   "source": [
    "# create n-grams from overview (train)\n",
    "vectorizer = CountVectorizer(stop_words = 'english', ngram_range = (1, 1))\n",
    "vectorizer.fit(data_nlp_train.Overview.values)\n",
    "over_matrix_train = vectorizer.transform(data_nlp_train.Overview.values)\n",
    "n, p = over_matrix_train.shape\n",
    "print over_matrix_train.shape\n",
    "\n",
    "# term_freqs_file = \"term_freqs.mtx\"\n",
    "#if not op.isfile(term_freqs_file):\n",
    "#    mmwrite(term_freqs_file, over_matrix_train)"
   ]
  },
  {
   "cell_type": "code",
   "execution_count": 14,
   "metadata": {},
   "outputs": [
    {
     "name": "stdout",
     "output_type": "stream",
     "text": [
      "\n",
      "Cumulative percentage of variance explained: 0.215\n"
     ]
    }
   ],
   "source": [
    "# apply SVD to document-term matrix (train)\n",
    "tsvd = tSVD(n_components = 100)\n",
    "tsvd.fit(over_matrix_train)\n",
    "over_matrix_pca_train = tsvd.transform(over_matrix_train)\n",
    "print\n",
    "print(\"Cumulative percentage of variance explained: \" + \\\n",
    "      str(round(tsvd.explained_variance_ratio_.sum(), 4)))"
   ]
  },
  {
   "cell_type": "code",
   "execution_count": 15,
   "metadata": {
    "collapsed": true
   },
   "outputs": [],
   "source": [
    "pc1 = tsvd.components_[1]\n",
    "pc1_top_loadings = np.where(pc1 > 10**-1.75)"
   ]
  },
  {
   "cell_type": "markdown",
   "metadata": {},
   "source": [
    "#### Testing Data\n",
    "\n",
    "Vectorizer and principal-components transformations of the testing data are performed using fits from the training data."
   ]
  },
  {
   "cell_type": "code",
   "execution_count": 16,
   "metadata": {
    "collapsed": true
   },
   "outputs": [],
   "source": [
    "# stem words in Overview field (test)\n",
    "for index in range(data_nlp_test.shape[0]):\n",
    "    data_nlp_test.Overview.values[index] = \\\n",
    "        \" \".join(take(1000, stemmed_words(data_nlp_test.Overview.values[index])))\n",
    "\n",
    "# create n-grams from overview (test)\n",
    "over_matrix_test = vectorizer.transform(data_nlp_test.Overview.values)\n",
    "\n",
    "# apply SVD to document-term matrix (test)\n",
    "over_matrix_pca_test = tsvd.transform(over_matrix_test)"
   ]
  },
  {
   "cell_type": "markdown",
   "metadata": {},
   "source": [
    "### Explore Terms"
   ]
  },
  {
   "cell_type": "code",
   "execution_count": 17,
   "metadata": {},
   "outputs": [
    {
     "name": "stdout",
     "output_type": "stream",
     "text": [
      "Total number of overviews and terms: 26451 overviews and 43113 terms\n",
      "\n"
     ]
    },
    {
     "data": {
      "text/html": [
       "<div>\n",
       "<table border=\"1\" class=\"dataframe\">\n",
       "  <thead>\n",
       "    <tr style=\"text-align: right;\">\n",
       "      <th></th>\n",
       "      <th>Sample_Stemmed_Terms</th>\n",
       "    </tr>\n",
       "  </thead>\n",
       "  <tbody>\n",
       "    <tr>\n",
       "      <th>0</th>\n",
       "      <td>adan</td>\n",
       "    </tr>\n",
       "    <tr>\n",
       "      <th>1</th>\n",
       "      <td>adana</td>\n",
       "    </tr>\n",
       "    <tr>\n",
       "      <th>2</th>\n",
       "      <td>adanggaman</td>\n",
       "    </tr>\n",
       "    <tr>\n",
       "      <th>3</th>\n",
       "      <td>adap</td>\n",
       "    </tr>\n",
       "    <tr>\n",
       "      <th>4</th>\n",
       "      <td>adapt</td>\n",
       "    </tr>\n",
       "    <tr>\n",
       "      <th>5</th>\n",
       "      <td>adar</td>\n",
       "    </tr>\n",
       "    <tr>\n",
       "      <th>6</th>\n",
       "      <td>add</td>\n",
       "    </tr>\n",
       "    <tr>\n",
       "      <th>7</th>\n",
       "      <td>addam</td>\n",
       "    </tr>\n",
       "    <tr>\n",
       "      <th>8</th>\n",
       "      <td>addendum</td>\n",
       "    </tr>\n",
       "    <tr>\n",
       "      <th>9</th>\n",
       "      <td>adderal</td>\n",
       "    </tr>\n",
       "  </tbody>\n",
       "</table>\n",
       "</div>"
      ],
      "text/plain": [
       "  Sample_Stemmed_Terms\n",
       "0                 adan\n",
       "1                adana\n",
       "2           adanggaman\n",
       "3                 adap\n",
       "4                adapt\n",
       "5                 adar\n",
       "6                  add\n",
       "7                addam\n",
       "8             addendum\n",
       "9              adderal"
      ]
     },
     "metadata": {},
     "output_type": "display_data"
    }
   ],
   "source": [
    "# print sample terms from overview\n",
    "feature_names = np.array(vectorizer.get_feature_names()).reshape(-1, 1)\n",
    "print \"Total number of overviews and terms: \" + str(n) + \" overviews and \" \\\n",
    "    + str(p) + \" terms\"\n",
    "print\n",
    "terms_df = pd.DataFrame(feature_names[1000:1010, 0], \n",
    "                        columns = ['Sample_Stemmed_Terms'])\n",
    "display(terms_df)"
   ]
  },
  {
   "cell_type": "code",
   "execution_count": 18,
   "metadata": {
    "collapsed": true
   },
   "outputs": [],
   "source": [
    "# count words and vocabulary per overview\n",
    "data_nlp_train.Word_Count = over_matrix_train.sum(axis = 1)\n",
    "data_nlp_train.Vocab_Count = (over_matrix_train > 0).sum(axis = 1)"
   ]
  },
  {
   "cell_type": "code",
   "execution_count": 19,
   "metadata": {
    "collapsed": true
   },
   "outputs": [],
   "source": [
    "# create term dictionary\n",
    "all_term_dict = zip(vectorizer.get_feature_names(),\n",
    "                    np.asarray(over_matrix_train.sum(axis = 0)).ravel())\n",
    "all_term_dict_df = pd.DataFrame(all_term_dict).sort_values(by = [1], \n",
    "                                                           ascending = False)"
   ]
  },
  {
   "cell_type": "code",
   "execution_count": 20,
   "metadata": {},
   "outputs": [
    {
     "name": "stdout",
     "output_type": "stream",
     "text": [
      "\n",
      "Most frequent stemmed terms in overviews\n"
     ]
    },
    {
     "data": {
      "text/html": [
       "<div>\n",
       "<table border=\"1\" class=\"dataframe\">\n",
       "  <thead>\n",
       "    <tr style=\"text-align: right;\">\n",
       "      <th></th>\n",
       "      <th>Stemmed_Term</th>\n",
       "      <th>Count</th>\n",
       "    </tr>\n",
       "  </thead>\n",
       "  <tbody>\n",
       "    <tr>\n",
       "      <th>0</th>\n",
       "      <td>life</td>\n",
       "      <td>4858</td>\n",
       "    </tr>\n",
       "    <tr>\n",
       "      <th>1</th>\n",
       "      <td>film</td>\n",
       "      <td>4108</td>\n",
       "    </tr>\n",
       "    <tr>\n",
       "      <th>2</th>\n",
       "      <td>young</td>\n",
       "      <td>3955</td>\n",
       "    </tr>\n",
       "    <tr>\n",
       "      <th>3</th>\n",
       "      <td>year</td>\n",
       "      <td>3870</td>\n",
       "    </tr>\n",
       "    <tr>\n",
       "      <th>4</th>\n",
       "      <td>love</td>\n",
       "      <td>3724</td>\n",
       "    </tr>\n",
       "    <tr>\n",
       "      <th>5</th>\n",
       "      <td>live</td>\n",
       "      <td>3637</td>\n",
       "    </tr>\n",
       "    <tr>\n",
       "      <th>6</th>\n",
       "      <td>man</td>\n",
       "      <td>3421</td>\n",
       "    </tr>\n",
       "    <tr>\n",
       "      <th>7</th>\n",
       "      <td>new</td>\n",
       "      <td>3367</td>\n",
       "    </tr>\n",
       "    <tr>\n",
       "      <th>8</th>\n",
       "      <td>stori</td>\n",
       "      <td>3206</td>\n",
       "    </tr>\n",
       "    <tr>\n",
       "      <th>9</th>\n",
       "      <td>famili</td>\n",
       "      <td>3164</td>\n",
       "    </tr>\n",
       "    <tr>\n",
       "      <th>10</th>\n",
       "      <td>friend</td>\n",
       "      <td>3029</td>\n",
       "    </tr>\n",
       "    <tr>\n",
       "      <th>11</th>\n",
       "      <td>world</td>\n",
       "      <td>2921</td>\n",
       "    </tr>\n",
       "    <tr>\n",
       "      <th>12</th>\n",
       "      <td>becom</td>\n",
       "      <td>2700</td>\n",
       "    </tr>\n",
       "    <tr>\n",
       "      <th>13</th>\n",
       "      <td>time</td>\n",
       "      <td>2407</td>\n",
       "    </tr>\n",
       "    <tr>\n",
       "      <th>14</th>\n",
       "      <td>old</td>\n",
       "      <td>2396</td>\n",
       "    </tr>\n",
       "    <tr>\n",
       "      <th>15</th>\n",
       "      <td>make</td>\n",
       "      <td>2262</td>\n",
       "    </tr>\n",
       "    <tr>\n",
       "      <th>16</th>\n",
       "      <td>father</td>\n",
       "      <td>2215</td>\n",
       "    </tr>\n",
       "    <tr>\n",
       "      <th>17</th>\n",
       "      <td>girl</td>\n",
       "      <td>2171</td>\n",
       "    </tr>\n",
       "    <tr>\n",
       "      <th>18</th>\n",
       "      <td>woman</td>\n",
       "      <td>2163</td>\n",
       "    </tr>\n",
       "    <tr>\n",
       "      <th>19</th>\n",
       "      <td>tri</td>\n",
       "      <td>2127</td>\n",
       "    </tr>\n",
       "  </tbody>\n",
       "</table>\n",
       "</div>"
      ],
      "text/plain": [
       "   Stemmed_Term  Count\n",
       "0          life   4858\n",
       "1          film   4108\n",
       "2         young   3955\n",
       "3          year   3870\n",
       "4          love   3724\n",
       "5          live   3637\n",
       "6           man   3421\n",
       "7           new   3367\n",
       "8         stori   3206\n",
       "9        famili   3164\n",
       "10       friend   3029\n",
       "11        world   2921\n",
       "12        becom   2700\n",
       "13         time   2407\n",
       "14          old   2396\n",
       "15         make   2262\n",
       "16       father   2215\n",
       "17         girl   2171\n",
       "18        woman   2163\n",
       "19          tri   2127"
      ]
     },
     "execution_count": 20,
     "metadata": {},
     "output_type": "execute_result"
    }
   ],
   "source": [
    "# list top terms in dictionary\n",
    "print\n",
    "print \"Most frequent stemmed terms in overviews\"\n",
    "all_term_dict_df.columns = ['Stemmed_Term', 'Count']\n",
    "all_term_dict_df.reset_index(drop = True).head(20)"
   ]
  },
  {
   "cell_type": "code",
   "execution_count": 21,
   "metadata": {},
   "outputs": [
    {
     "data": {
      "text/markdown": [
       "#### Top loadings (terms) of principal component 1:"
      ],
      "text/plain": [
       "<IPython.core.display.Markdown object>"
      ]
     },
     "metadata": {},
     "output_type": "display_data"
    },
    {
     "data": {
      "text/markdown": [
       "actor, adapt, american, anim, award, base, charact, cinema, comedi, creat, cultur, direct, director, documentari, drama, explor, featur, festiv, fiction, film, filmmak, follow, footag, histori, includ, interview, movi, music, narrat, novel, origin, peopl, play, produc, product, releas, role, scene, seri, set, short, shot, star, stori, tell, war, world, written"
      ],
      "text/plain": [
       "<IPython.core.display.Markdown object>"
      ]
     },
     "metadata": {},
     "output_type": "display_data"
    }
   ],
   "source": [
    "terms_df = pd.DataFrame(feature_names[pc1_top_loadings], columns = ['Term'])\n",
    "printmd(\"#### Top loadings (terms) of principal component 1:\")\n",
    "printmd(terms_df.Term.str.cat(sep = ', '))"
   ]
  },
  {
   "cell_type": "markdown",
   "metadata": {},
   "source": [
    "These top loadings show a variety of terms used to distinguish one genre from another. A few genre name stems appear among the top loadings, including 'anim', 'drama', 'comedi', 'documentari', 'histori', and 'music'. Other key term stems include 'war' and 'world'."
   ]
  },
  {
   "cell_type": "code",
   "execution_count": 22,
   "metadata": {},
   "outputs": [
    {
     "name": "stdout",
     "output_type": "stream",
     "text": [
      "\n"
     ]
    },
    {
     "data": {
      "image/png": "[encoded data removed]",
      "text/plain": [
       "<matplotlib.figure.Figure at 0x130ec3290>"
      ]
     },
     "metadata": {},
     "output_type": "display_data"
    }
   ],
   "source": [
    "# plot histogram of word counts per overview\n",
    "print\n",
    "fig = plt.figure(figsize = (8, 4))\n",
    "ax = fig.add_subplot(1, 1, 1)\n",
    "ax.hist(data_nlp_train.Word_Count, bins = 30, color = 'darkblue', \n",
    "        edgecolor = 'white')\n",
    "ax.set_title(\"Frequency of overview word counts\")\n",
    "ax.set_xlabel(\"Overview word count\")\n",
    "ax.set_ylabel(\"Frequency\")\n",
    "plt.show()"
   ]
  },
  {
   "cell_type": "code",
   "execution_count": 23,
   "metadata": {},
   "outputs": [
    {
     "name": "stdout",
     "output_type": "stream",
     "text": [
      "\n"
     ]
    },
    {
     "data": {
      "image/png": "[encoded data removed]",
      "text/plain": [
       "<matplotlib.figure.Figure at 0x1196dd8d0>"
      ]
     },
     "metadata": {},
     "output_type": "display_data"
    }
   ],
   "source": [
    "# plot histogram of vocabulary counts per overview\n",
    "print\n",
    "fig = plt.figure(figsize = (8, 4))\n",
    "ax = fig.add_subplot(1, 1, 1)\n",
    "ax.hist(data_nlp_train.Vocab_Count, bins = 30, color = 'darkblue', \n",
    "        edgecolor = 'white')\n",
    "ax.set_title(\"Frequency of overview vocabulary counts\")\n",
    "ax.set_xlabel(\"Overview vocabulary count\")\n",
    "ax.set_ylabel(\"Frequency\")\n",
    "plt.show()"
   ]
  },
  {
   "cell_type": "markdown",
   "metadata": {
    "collapsed": true
   },
   "source": [
    "## Step 3: Modeling"
   ]
  },
  {
   "cell_type": "markdown",
   "metadata": {},
   "source": [
    "Accuracy is comparably good using either a random forest (RF) classifier or quadratic discriminant analysis (QDA). Let's proceed with RF, since it slightly outscores QDA by about 1%. The success of QDA implies that a quadratic decision boundary is effective for predicting individual genre with this data set. The success of QDA also implies that tagging by any single genre follows a Gaussian distribution.\n",
    "\n",
    "Another popular machine learning algorithm, logistic regression, showed prediction accuracy about 5% less than either RF or QDA. So we'll omit logistic regression from the rest of this analysis.\n",
    "\n",
    "Linear discriminant analysis showed prediction accuracy well below 50%, so we'll omit this method from the rest of the analysis.\n",
    "\n",
    "Several other popular machine learning algorithms were unfortunately too slow to run effectively with the size of this data set: KNN, gradient boosting, and a support vector machine with a polynomial kernel (of degree 2)."
   ]
  },
  {
   "cell_type": "markdown",
   "metadata": {},
   "source": [
    "### Utility Functions"
   ]
  },
  {
   "cell_type": "code",
   "execution_count": 24,
   "metadata": {
    "collapsed": true
   },
   "outputs": [],
   "source": [
    "# define model codes\n",
    "log_reg = 2\n",
    "lda = 3\n",
    "qda = 4\n",
    "knn = 5\n",
    "rfc = 6\n",
    "boost = 7\n",
    "svm = 8"
   ]
  },
  {
   "cell_type": "code",
   "execution_count": 25,
   "metadata": {
    "collapsed": true
   },
   "outputs": [],
   "source": [
    "# function to return name of model type\n",
    "def get_model_name(model_type):\n",
    "    if model_type == log_reg:\n",
    "        model_name = \"logistic regression\"\n",
    "    elif model_type == lda:\n",
    "        model_name = \"LDA\"\n",
    "    elif model_type == qda:\n",
    "        model_name = \"QDA\"\n",
    "    elif model_type == knn:\n",
    "        model_name = \"KNN\"\n",
    "    elif model_type == rfc:\n",
    "        model_name = \"random forests\"\n",
    "    elif model_type == boost:\n",
    "        model_name = \"boost\"\n",
    "    elif model_type == svm:\n",
    "        model_name = \"SVM\"\n",
    "    else:\n",
    "        model_name = \"\"\n",
    "        \n",
    "    return model_name"
   ]
  },
  {
   "cell_type": "code",
   "execution_count": 26,
   "metadata": {
    "collapsed": true
   },
   "outputs": [],
   "source": [
    "# function to return unfitted model of given type\n",
    "def get_model_instance(model_type, y):\n",
    "    default_ratio = (y == 1).sum() / float(len(y))\n",
    "    priors = (default_ratio, 1.0 - default_ratio)\n",
    "    \n",
    "    if model_type == log_reg:\n",
    "         model_instance = Log_Reg(C = 1, class_weight = 'balanced', \n",
    "                                  n_jobs = 3)\n",
    "    elif model_type == lda:\n",
    "        model_instance = LDA(priors = priors)\n",
    "    elif model_type == qda:\n",
    "        model_instance = QDA(reg_param = 0.25)\n",
    "    elif model_type == knn:\n",
    "        model_instance = KNN(n_neighbors = 5)\n",
    "    elif model_type == rfc:\n",
    "        model_instance = RFC(n_estimators = 20, class_weight = 'balanced',\n",
    "                            max_features = 'auto', max_depth = None, \n",
    "                             n_jobs = 3)\n",
    "    elif model_type == boost:\n",
    "        model_instance = Boost()\n",
    "    elif model_type == svm:\n",
    "        model_instance = SVC(kernel = 'poly', degree = 2, \n",
    "                             class_weight = 'balanced')\n",
    "    else:\n",
    "        model_instance = None\n",
    "        \n",
    "    return model_instance"
   ]
  },
  {
   "cell_type": "code",
   "execution_count": 27,
   "metadata": {
    "collapsed": true
   },
   "outputs": [],
   "source": [
    "# function to fit and score one model of given type\n",
    "def cross_validate_one_model(x, y, model_type):\n",
    "    np.random.seed(42)\n",
    "        \n",
    "    train_score_accum = 0\n",
    "    test_score_accum = 0\n",
    "\n",
    "    n_folds = 5\n",
    "    kf = KFold(x.shape[0], n_folds = n_folds)\n",
    "    for train_index, test_index in kf:\n",
    "        x_train, x_test = x[train_index], x[test_index]\n",
    "        y_train, y_test = y.values[train_index], y.values[test_index]\n",
    "  \n",
    "        model = get_model_instance(model_type, y_train)\n",
    "        model.fit(x_train, y_train)\n",
    "        y_predict = model.predict(x_test)\n",
    "        \n",
    "        train_score_accum += model.score(x_train, y_train)\n",
    "        test_score_accum += model.score(x_test, y_test)\n",
    "\n",
    "    # calculate accuracy\n",
    "    train_score = train_score_accum / float(n_folds)\n",
    "    test_score = test_score_accum / float(n_folds)\n",
    "    \n",
    "    return test_score"
   ]
  },
  {
   "cell_type": "code",
   "execution_count": 28,
   "metadata": {
    "collapsed": true
   },
   "outputs": [],
   "source": [
    "# function to fit and score one model of given type\n",
    "def fit_and_score_one_model(x_train, y_train, x_test, y_test, model_type):\n",
    "    np.random.seed(42)\n",
    "\n",
    "    model = get_model_instance(model_type, y_train)\n",
    "    model.fit(x_train, y_train)\n",
    "    y_predict = model.predict(x_test)\n",
    "\n",
    "    train_score = model.score(x_train, y_train)\n",
    "    test_score = model.score(x_test, y_test)\n",
    "    \n",
    "    return y_predict, test_score"
   ]
  },
  {
   "cell_type": "markdown",
   "metadata": {},
   "source": [
    "### Modeling"
   ]
  },
  {
   "cell_type": "markdown",
   "metadata": {},
   "source": [
    "Each model below is fit on training data and then scored on testing data."
   ]
  },
  {
   "cell_type": "markdown",
   "metadata": {},
   "source": [
    "#### Different Model Types"
   ]
  },
  {
   "cell_type": "code",
   "execution_count": 29,
   "metadata": {
    "collapsed": true
   },
   "outputs": [],
   "source": [
    "model_types = [lda, log_reg, qda, rfc]\n",
    "model_names = ['Linear Discriminant Analysis', 'Logistic Regression', \\\n",
    "               'Quadratic Discriminant Analysis', 'Random Forest Classifier']\n",
    "num_model_types = len(model_types)\n",
    "test_scores_models = np.zeros(num_model_types)\n",
    "\n",
    "# fit and score model on each genre\n",
    "for i in range(num_model_types):\n",
    "    test_scores_models[i] = \\\n",
    "        cross_validate_one_model(over_matrix_pca_train, data_nlp_train.Action, \n",
    "                                 model_types[i])"
   ]
  },
  {
   "cell_type": "code",
   "execution_count": 30,
   "metadata": {},
   "outputs": [
    {
     "name": "stdout",
     "output_type": "stream",
     "text": [
      "\n"
     ]
    },
    {
     "data": {
      "text/markdown": [
       "Test Accuracy during Cross-Validation"
      ],
      "text/plain": [
       "<IPython.core.display.Markdown object>"
      ]
     },
     "metadata": {},
     "output_type": "display_data"
    },
    {
     "data": {
      "text/html": [
       "<div>\n",
       "<table border=\"1\" class=\"dataframe\">\n",
       "  <thead>\n",
       "    <tr style=\"text-align: right;\">\n",
       "      <th></th>\n",
       "      <th>Accuracy</th>\n",
       "    </tr>\n",
       "  </thead>\n",
       "  <tbody>\n",
       "    <tr>\n",
       "      <th>Linear Discriminant Analysis</th>\n",
       "      <td>0.28</td>\n",
       "    </tr>\n",
       "    <tr>\n",
       "      <th>Logistic Regression</th>\n",
       "      <td>0.76</td>\n",
       "    </tr>\n",
       "    <tr>\n",
       "      <th>Quadratic Discriminant Analysis</th>\n",
       "      <td>0.86</td>\n",
       "    </tr>\n",
       "    <tr>\n",
       "      <th>Random Forest Classifier</th>\n",
       "      <td>0.86</td>\n",
       "    </tr>\n",
       "  </tbody>\n",
       "</table>\n",
       "</div>"
      ],
      "text/plain": [
       "                                 Accuracy\n",
       "Linear Discriminant Analysis         0.28\n",
       "Logistic Regression                  0.76\n",
       "Quadratic Discriminant Analysis      0.86\n",
       "Random Forest Classifier             0.86"
      ]
     },
     "metadata": {},
     "output_type": "display_data"
    }
   ],
   "source": [
    "test_scores_models_df = pd.DataFrame(test_scores_models, columns = ['Accuracy'])\n",
    "test_scores_models_df.Accuracy = test_scores_models_df.Accuracy.round(2)\n",
    "test_scores_models_df.index = model_names\n",
    "\n",
    "print\n",
    "printmd(\"Test Accuracy during Cross-Validation\")\n",
    "display(test_scores_models_df)"
   ]
  },
  {
   "cell_type": "markdown",
   "metadata": {},
   "source": [
    "#### Different Genre Types - Random Forest"
   ]
  },
  {
   "cell_type": "code",
   "execution_count": 31,
   "metadata": {
    "collapsed": true
   },
   "outputs": [],
   "source": [
    "y_predict_all_rf = np.zeros([data_nlp_test.shape[0], num_genres])\n",
    "test_scores_all_rf = np.zeros(num_genres)\n",
    "\n",
    "# fit and score model on each genre\n",
    "for i in range(num_genres):\n",
    "    y_predict_all_rf[:, i], test_scores_all_rf[i] = \\\n",
    "        fit_and_score_one_model(over_matrix_pca_train, \n",
    "                                data_nlp_train.iloc[:, i + num_non_genre_cols], \n",
    "                                over_matrix_pca_test, \n",
    "                                data_nlp_test.iloc[:, i + num_non_genre_cols], \n",
    "                                rfc)"
   ]
  },
  {
   "cell_type": "code",
   "execution_count": 32,
   "metadata": {},
   "outputs": [
    {
     "name": "stdout",
     "output_type": "stream",
     "text": [
      "\n"
     ]
    },
    {
     "data": {
      "text/markdown": [
       "Prediction Accuracy on Testing Data (with Random Forest)"
      ],
      "text/plain": [
       "<IPython.core.display.Markdown object>"
      ]
     },
     "metadata": {},
     "output_type": "display_data"
    },
    {
     "data": {
      "text/html": [
       "<div>\n",
       "<table border=\"1\" class=\"dataframe\">\n",
       "  <thead>\n",
       "    <tr style=\"text-align: right;\">\n",
       "      <th></th>\n",
       "      <th>Accuracy</th>\n",
       "    </tr>\n",
       "  </thead>\n",
       "  <tbody>\n",
       "    <tr>\n",
       "      <th>Action</th>\n",
       "      <td>0.86</td>\n",
       "    </tr>\n",
       "    <tr>\n",
       "      <th>Adventure</th>\n",
       "      <td>0.93</td>\n",
       "    </tr>\n",
       "    <tr>\n",
       "      <th>Animation</th>\n",
       "      <td>0.97</td>\n",
       "    </tr>\n",
       "    <tr>\n",
       "      <th>Comedy</th>\n",
       "      <td>0.70</td>\n",
       "    </tr>\n",
       "    <tr>\n",
       "      <th>Crime</th>\n",
       "      <td>0.91</td>\n",
       "    </tr>\n",
       "    <tr>\n",
       "      <th>Doc</th>\n",
       "      <td>0.93</td>\n",
       "    </tr>\n",
       "    <tr>\n",
       "      <th>Drama</th>\n",
       "      <td>0.62</td>\n",
       "    </tr>\n",
       "    <tr>\n",
       "      <th>Family</th>\n",
       "      <td>0.95</td>\n",
       "    </tr>\n",
       "    <tr>\n",
       "      <th>Fantasy</th>\n",
       "      <td>0.96</td>\n",
       "    </tr>\n",
       "    <tr>\n",
       "      <th>History</th>\n",
       "      <td>0.97</td>\n",
       "    </tr>\n",
       "    <tr>\n",
       "      <th>Horror</th>\n",
       "      <td>0.89</td>\n",
       "    </tr>\n",
       "    <tr>\n",
       "      <th>Music</th>\n",
       "      <td>0.96</td>\n",
       "    </tr>\n",
       "    <tr>\n",
       "      <th>Mystery</th>\n",
       "      <td>0.95</td>\n",
       "    </tr>\n",
       "    <tr>\n",
       "      <th>Romance</th>\n",
       "      <td>0.84</td>\n",
       "    </tr>\n",
       "    <tr>\n",
       "      <th>Sci_Fi</th>\n",
       "      <td>0.94</td>\n",
       "    </tr>\n",
       "    <tr>\n",
       "      <th>Thriller</th>\n",
       "      <td>0.83</td>\n",
       "    </tr>\n",
       "    <tr>\n",
       "      <th>War</th>\n",
       "      <td>0.97</td>\n",
       "    </tr>\n",
       "    <tr>\n",
       "      <th>Western</th>\n",
       "      <td>0.98</td>\n",
       "    </tr>\n",
       "  </tbody>\n",
       "</table>\n",
       "</div>"
      ],
      "text/plain": [
       "           Accuracy\n",
       "Action         0.86\n",
       "Adventure      0.93\n",
       "Animation      0.97\n",
       "Comedy         0.70\n",
       "Crime          0.91\n",
       "Doc            0.93\n",
       "Drama          0.62\n",
       "Family         0.95\n",
       "Fantasy        0.96\n",
       "History        0.97\n",
       "Horror         0.89\n",
       "Music          0.96\n",
       "Mystery        0.95\n",
       "Romance        0.84\n",
       "Sci_Fi         0.94\n",
       "Thriller       0.83\n",
       "War            0.97\n",
       "Western        0.98"
      ]
     },
     "metadata": {},
     "output_type": "display_data"
    }
   ],
   "source": [
    "test_scores_all_rf_df = pd.DataFrame(test_scores_all_rf, columns = ['Accuracy'])\n",
    "test_scores_all_rf_df.Accuracy = test_scores_all_rf_df.Accuracy.round(2)\n",
    "test_scores_all_rf_df.index = genres\n",
    "\n",
    "print\n",
    "printmd(\"Prediction Accuracy on Testing Data (with Random Forest)\")\n",
    "display(test_scores_all_rf_df)"
   ]
  },
  {
   "cell_type": "code",
   "execution_count": 33,
   "metadata": {},
   "outputs": [
    {
     "data": {
      "text/markdown": [],
      "text/plain": [
       "<IPython.core.display.Markdown object>"
      ]
     },
     "metadata": {},
     "output_type": "display_data"
    },
    {
     "data": {
      "text/markdown": [
       "The average test accuracy over all genres is 0.90"
      ],
      "text/plain": [
       "<IPython.core.display.Markdown object>"
      ]
     },
     "metadata": {},
     "output_type": "display_data"
    }
   ],
   "source": [
    "avg_score_rf = test_scores_all_rf_df.Accuracy.mean()\n",
    "printmd(\"\")\n",
    "printmd(\"The average test accuracy over all genres is \" + \\\n",
    "        \"{:.2f}\".format(round(avg_score_rf, 2)))"
   ]
  },
  {
   "cell_type": "code",
   "execution_count": 34,
   "metadata": {},
   "outputs": [
    {
     "data": {
      "text/markdown": [],
      "text/plain": [
       "<IPython.core.display.Markdown object>"
      ]
     },
     "metadata": {},
     "output_type": "display_data"
    },
    {
     "data": {
      "text/markdown": [
       "Description of Test Accuracy (with Random Forest)"
      ],
      "text/plain": [
       "<IPython.core.display.Markdown object>"
      ]
     },
     "metadata": {},
     "output_type": "display_data"
    },
    {
     "data": {
      "text/html": [
       "<div>\n",
       "<table border=\"1\" class=\"dataframe\">\n",
       "  <thead>\n",
       "    <tr style=\"text-align: right;\">\n",
       "      <th></th>\n",
       "      <th>Accuracy</th>\n",
       "    </tr>\n",
       "  </thead>\n",
       "  <tbody>\n",
       "    <tr>\n",
       "      <th>count</th>\n",
       "      <td>18.000000</td>\n",
       "    </tr>\n",
       "    <tr>\n",
       "      <th>mean</th>\n",
       "      <td>0.897778</td>\n",
       "    </tr>\n",
       "    <tr>\n",
       "      <th>std</th>\n",
       "      <td>0.098611</td>\n",
       "    </tr>\n",
       "    <tr>\n",
       "      <th>min</th>\n",
       "      <td>0.620000</td>\n",
       "    </tr>\n",
       "    <tr>\n",
       "      <th>25%</th>\n",
       "      <td>0.867500</td>\n",
       "    </tr>\n",
       "    <tr>\n",
       "      <th>50%</th>\n",
       "      <td>0.935000</td>\n",
       "    </tr>\n",
       "    <tr>\n",
       "      <th>75%</th>\n",
       "      <td>0.960000</td>\n",
       "    </tr>\n",
       "    <tr>\n",
       "      <th>max</th>\n",
       "      <td>0.980000</td>\n",
       "    </tr>\n",
       "  </tbody>\n",
       "</table>\n",
       "</div>"
      ],
      "text/plain": [
       "        Accuracy\n",
       "count  18.000000\n",
       "mean    0.897778\n",
       "std     0.098611\n",
       "min     0.620000\n",
       "25%     0.867500\n",
       "50%     0.935000\n",
       "75%     0.960000\n",
       "max     0.980000"
      ]
     },
     "execution_count": 34,
     "metadata": {},
     "output_type": "execute_result"
    }
   ],
   "source": [
    "printmd(\"\")\n",
    "printmd(\"Description of Test Accuracy (with Random Forest)\")\n",
    "test_scores_all_rf_df.describe()"
   ]
  },
  {
   "cell_type": "code",
   "execution_count": 35,
   "metadata": {
    "scrolled": true
   },
   "outputs": [
    {
     "data": {
      "text/markdown": [],
      "text/plain": [
       "<IPython.core.display.Markdown object>"
      ]
     },
     "metadata": {},
     "output_type": "display_data"
    },
    {
     "data": {
      "text/markdown": [
       "The average accuracy of predicting multiple genres per movie is 0.90"
      ],
      "text/plain": [
       "<IPython.core.display.Markdown object>"
      ]
     },
     "metadata": {},
     "output_type": "display_data"
    }
   ],
   "source": [
    "accu_all_rf = (y_predict_all_rf ==\n",
    "            data_nlp_test.ix[:, num_non_genre_cols:(num_genres + num_non_genre_cols)])\n",
    "per_movie_accu_rf = np.sum(accu_all_rf, axis = 1) / num_genres\n",
    "avg_per_movie_accu_rf = per_movie_accu_rf.mean()\n",
    "\n",
    "printmd(\"\")\n",
    "printmd(\"The average accuracy of predicting multiple genres per movie is \" + \\\n",
    "      \"{:.2f}\".format(round(avg_per_movie_accu_rf, 2)))"
   ]
  },
  {
   "cell_type": "markdown",
   "metadata": {},
   "source": [
    "#### Different Genre Types - QDA"
   ]
  },
  {
   "cell_type": "code",
   "execution_count": 36,
   "metadata": {
    "collapsed": true
   },
   "outputs": [],
   "source": [
    "y_predict_all_qda = np.zeros([data_nlp_test.shape[0], num_genres])\n",
    "test_scores_all_qda = np.zeros(num_genres)\n",
    "\n",
    "# fit and score model on each genre\n",
    "for i in range(num_genres):\n",
    "    y_predict_all_qda[:, i], test_scores_all_qda[i] = \\\n",
    "        fit_and_score_one_model(over_matrix_pca_train, \n",
    "                                data_nlp_train.iloc[:, i + num_non_genre_cols], \n",
    "                                over_matrix_pca_test, \n",
    "                                data_nlp_test.iloc[:, i + num_non_genre_cols], \n",
    "                                qda)"
   ]
  },
  {
   "cell_type": "code",
   "execution_count": 37,
   "metadata": {},
   "outputs": [
    {
     "name": "stdout",
     "output_type": "stream",
     "text": [
      "\n"
     ]
    },
    {
     "data": {
      "text/markdown": [
       "Prediction Accuracy on Testing Data (with QDA)"
      ],
      "text/plain": [
       "<IPython.core.display.Markdown object>"
      ]
     },
     "metadata": {},
     "output_type": "display_data"
    },
    {
     "data": {
      "text/html": [
       "<div>\n",
       "<table border=\"1\" class=\"dataframe\">\n",
       "  <thead>\n",
       "    <tr style=\"text-align: right;\">\n",
       "      <th></th>\n",
       "      <th>Accuracy</th>\n",
       "    </tr>\n",
       "  </thead>\n",
       "  <tbody>\n",
       "    <tr>\n",
       "      <th>Action</th>\n",
       "      <td>0.85</td>\n",
       "    </tr>\n",
       "    <tr>\n",
       "      <th>Adventure</th>\n",
       "      <td>0.93</td>\n",
       "    </tr>\n",
       "    <tr>\n",
       "      <th>Animation</th>\n",
       "      <td>0.97</td>\n",
       "    </tr>\n",
       "    <tr>\n",
       "      <th>Comedy</th>\n",
       "      <td>0.70</td>\n",
       "    </tr>\n",
       "    <tr>\n",
       "      <th>Crime</th>\n",
       "      <td>0.91</td>\n",
       "    </tr>\n",
       "    <tr>\n",
       "      <th>Doc</th>\n",
       "      <td>0.91</td>\n",
       "    </tr>\n",
       "    <tr>\n",
       "      <th>Drama</th>\n",
       "      <td>0.60</td>\n",
       "    </tr>\n",
       "    <tr>\n",
       "      <th>Family</th>\n",
       "      <td>0.94</td>\n",
       "    </tr>\n",
       "    <tr>\n",
       "      <th>Fantasy</th>\n",
       "      <td>0.96</td>\n",
       "    </tr>\n",
       "    <tr>\n",
       "      <th>History</th>\n",
       "      <td>0.96</td>\n",
       "    </tr>\n",
       "    <tr>\n",
       "      <th>Horror</th>\n",
       "      <td>0.89</td>\n",
       "    </tr>\n",
       "    <tr>\n",
       "      <th>Music</th>\n",
       "      <td>0.96</td>\n",
       "    </tr>\n",
       "    <tr>\n",
       "      <th>Mystery</th>\n",
       "      <td>0.95</td>\n",
       "    </tr>\n",
       "    <tr>\n",
       "      <th>Romance</th>\n",
       "      <td>0.84</td>\n",
       "    </tr>\n",
       "    <tr>\n",
       "      <th>Sci_Fi</th>\n",
       "      <td>0.94</td>\n",
       "    </tr>\n",
       "    <tr>\n",
       "      <th>Thriller</th>\n",
       "      <td>0.83</td>\n",
       "    </tr>\n",
       "    <tr>\n",
       "      <th>War</th>\n",
       "      <td>0.97</td>\n",
       "    </tr>\n",
       "    <tr>\n",
       "      <th>Western</th>\n",
       "      <td>0.97</td>\n",
       "    </tr>\n",
       "  </tbody>\n",
       "</table>\n",
       "</div>"
      ],
      "text/plain": [
       "           Accuracy\n",
       "Action         0.85\n",
       "Adventure      0.93\n",
       "Animation      0.97\n",
       "Comedy         0.70\n",
       "Crime          0.91\n",
       "Doc            0.91\n",
       "Drama          0.60\n",
       "Family         0.94\n",
       "Fantasy        0.96\n",
       "History        0.96\n",
       "Horror         0.89\n",
       "Music          0.96\n",
       "Mystery        0.95\n",
       "Romance        0.84\n",
       "Sci_Fi         0.94\n",
       "Thriller       0.83\n",
       "War            0.97\n",
       "Western        0.97"
      ]
     },
     "metadata": {},
     "output_type": "display_data"
    }
   ],
   "source": [
    "test_scores_all_qda_df = pd.DataFrame(test_scores_all_qda, columns = ['Accuracy'])\n",
    "test_scores_all_qda_df.Accuracy = test_scores_all_qda_df.Accuracy.round(2)\n",
    "test_scores_all_qda_df.index = genres\n",
    "\n",
    "print\n",
    "printmd(\"Prediction Accuracy on Testing Data (with QDA)\")\n",
    "display(test_scores_all_qda_df)"
   ]
  },
  {
   "cell_type": "code",
   "execution_count": 38,
   "metadata": {},
   "outputs": [
    {
     "data": {
      "text/markdown": [],
      "text/plain": [
       "<IPython.core.display.Markdown object>"
      ]
     },
     "metadata": {},
     "output_type": "display_data"
    },
    {
     "data": {
      "text/markdown": [
       "The average test accuracy over all genres is 0.89"
      ],
      "text/plain": [
       "<IPython.core.display.Markdown object>"
      ]
     },
     "metadata": {},
     "output_type": "display_data"
    }
   ],
   "source": [
    "avg_score_qda = test_scores_all_qda_df.Accuracy.mean()\n",
    "printmd(\"\")\n",
    "printmd(\"The average test accuracy over all genres is \" + \\\n",
    "        \"{:.2f}\".format(round(avg_score_qda, 2)))"
   ]
  },
  {
   "cell_type": "code",
   "execution_count": 39,
   "metadata": {},
   "outputs": [
    {
     "data": {
      "text/markdown": [],
      "text/plain": [
       "<IPython.core.display.Markdown object>"
      ]
     },
     "metadata": {},
     "output_type": "display_data"
    },
    {
     "data": {
      "text/markdown": [
       "Description of Test Accuracy (with QDA)"
      ],
      "text/plain": [
       "<IPython.core.display.Markdown object>"
      ]
     },
     "metadata": {},
     "output_type": "display_data"
    },
    {
     "data": {
      "text/html": [
       "<div>\n",
       "<table border=\"1\" class=\"dataframe\">\n",
       "  <thead>\n",
       "    <tr style=\"text-align: right;\">\n",
       "      <th></th>\n",
       "      <th>Accuracy</th>\n",
       "    </tr>\n",
       "  </thead>\n",
       "  <tbody>\n",
       "    <tr>\n",
       "      <th>count</th>\n",
       "      <td>18.000000</td>\n",
       "    </tr>\n",
       "    <tr>\n",
       "      <th>mean</th>\n",
       "      <td>0.893333</td>\n",
       "    </tr>\n",
       "    <tr>\n",
       "      <th>std</th>\n",
       "      <td>0.100762</td>\n",
       "    </tr>\n",
       "    <tr>\n",
       "      <th>min</th>\n",
       "      <td>0.600000</td>\n",
       "    </tr>\n",
       "    <tr>\n",
       "      <th>25%</th>\n",
       "      <td>0.860000</td>\n",
       "    </tr>\n",
       "    <tr>\n",
       "      <th>50%</th>\n",
       "      <td>0.935000</td>\n",
       "    </tr>\n",
       "    <tr>\n",
       "      <th>75%</th>\n",
       "      <td>0.960000</td>\n",
       "    </tr>\n",
       "    <tr>\n",
       "      <th>max</th>\n",
       "      <td>0.970000</td>\n",
       "    </tr>\n",
       "  </tbody>\n",
       "</table>\n",
       "</div>"
      ],
      "text/plain": [
       "        Accuracy\n",
       "count  18.000000\n",
       "mean    0.893333\n",
       "std     0.100762\n",
       "min     0.600000\n",
       "25%     0.860000\n",
       "50%     0.935000\n",
       "75%     0.960000\n",
       "max     0.970000"
      ]
     },
     "execution_count": 39,
     "metadata": {},
     "output_type": "execute_result"
    }
   ],
   "source": [
    "printmd(\"\")\n",
    "printmd(\"Description of Test Accuracy (with QDA)\")\n",
    "test_scores_all_qda_df.describe()"
   ]
  },
  {
   "cell_type": "code",
   "execution_count": 40,
   "metadata": {
    "scrolled": true
   },
   "outputs": [
    {
     "data": {
      "text/markdown": [],
      "text/plain": [
       "<IPython.core.display.Markdown object>"
      ]
     },
     "metadata": {},
     "output_type": "display_data"
    },
    {
     "data": {
      "text/markdown": [
       "The average accuracy of predicting multiple genres per movie is 0.89"
      ],
      "text/plain": [
       "<IPython.core.display.Markdown object>"
      ]
     },
     "metadata": {},
     "output_type": "display_data"
    }
   ],
   "source": [
    "accu_all_qda = (y_predict_all_qda ==\n",
    "            data_nlp_test.ix[:, num_non_genre_cols:(num_genres + num_non_genre_cols)])\n",
    "per_movie_accu_qda = np.sum(accu_all_qda, axis = 1) / num_genres\n",
    "avg_per_movie_accu_qda = per_movie_accu_qda.mean()\n",
    "\n",
    "printmd(\"\")\n",
    "printmd(\"The average accuracy of predicting multiple genres per movie is \" + \\\n",
    "      \"{:.2f}\".format(round(avg_per_movie_accu_qda, 2)))"
   ]
  },
  {
   "cell_type": "markdown",
   "metadata": {},
   "source": [
    "#### Comparing Accuracy with Random Forest and QDA"
   ]
  },
  {
   "cell_type": "code",
   "execution_count": 75,
   "metadata": {},
   "outputs": [
    {
     "name": "stdout",
     "output_type": "stream",
     "text": [
      "\n"
     ]
    },
    {
     "data": {
      "image/png": "[encoded data removed]",
      "text/plain": [
       "<matplotlib.figure.Figure at 0x12263d150>"
      ]
     },
     "metadata": {},
     "output_type": "display_data"
    }
   ],
   "source": [
    "### plot genre accuracy for RF vs. QDA\n",
    "test_scores_all_rf_df = test_scores_all_rf_df.sort_values(by = 'Accuracy', \n",
    "                                                          ascending = False)\n",
    "test_scores_all_qda_df = test_scores_all_qda_df.sort_values(by = 'Accuracy', \n",
    "                                                            ascending = False)\n",
    "\n",
    "width = 0.3\n",
    "\n",
    "print\n",
    "fig = plt.figure(figsize = (10, 5))\n",
    "ax = fig.add_subplot(1, 1, 1)\n",
    "rects_1 = ax.bar(range(num_genres), \n",
    "       test_scores_all_rf_df.Accuracy, width = width, color = 'darkblue', \n",
    "       edgecolor = 'white')\n",
    "rects_2 = ax.bar(np.repeat(0.35, num_genres) + range(num_genres), \n",
    "       test_scores_all_qda_df.Accuracy, width = width, color = 'darkred', \n",
    "       edgecolor = 'white')\n",
    "ax.set_xticks(range(num_genres))\n",
    "ax.set_xticklabels(test_scores_all_rf_df.index.values, rotation = 90)\n",
    "ax.set_xlabel(\"Genre\")\n",
    "ax.set_ylabel(\"Accuracy\")\n",
    "ax.set_title(\"Language Model: Test Accuracy by Genre with RF and QDA Models\")\n",
    "ax.legend((rects_1[0], rects_2[0]), ('RF', 'QDA'))\n",
    "plt.show()"
   ]
  }
 ],
 "metadata": {
  "anaconda-cloud": {},
  "kernelspec": {
   "display_name": "Python [conda root]",
   "language": "python",
   "name": "conda-root-py"
  },
  "language_info": {
   "codemirror_mode": {
    "name": "ipython",
    "version": 2
   },
   "file_extension": ".py",
   "mimetype": "text/x-python",
   "name": "python",
   "nbconvert_exporter": "python",
   "pygments_lexer": "ipython2",
   "version": "2.7.13"
  }
 },
 "nbformat": 4,
 "nbformat_minor": 1
}
