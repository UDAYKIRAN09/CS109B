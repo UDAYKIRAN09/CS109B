{
 "cells": [
  {
   "cell_type": "markdown",
   "metadata": {},
   "source": [
    "# CS 109B - Course Project - Team 14\n",
    "## Genre Prediction - IMDb - by Directors, Actors, Writers & Musicians"
   ]
  },
  {
   "cell_type": "code",
   "execution_count": 1,
   "metadata": {
    "collapsed": false
   },
   "outputs": [
    {
     "name": "stderr",
     "output_type": "stream",
     "text": [
      "/Applications/Anaconda/anaconda/lib/python2.7/site-packages/matplotlib/font_manager.py:273: UserWarning: Matplotlib is building the font cache using fc-list. This may take a moment.\n",
      "  warnings.warn('Matplotlib is building the font cache using fc-list. This may take a moment.')\n",
      "/Applications/Anaconda/anaconda/lib/python2.7/site-packages/sklearn/cross_validation.py:44: DeprecationWarning: This module was deprecated in version 0.18 in favor of the model_selection module into which all the refactored classes and functions are moved. Also note that the interface of the new CV iterators are different from that of this module. This module will be removed in 0.20.\n",
      "  \"This module will be removed in 0.20.\", DeprecationWarning)\n"
     ]
    }
   ],
   "source": [
    "import sqlite3 \n",
    "import re\n",
    "\n",
    "import numpy as np\n",
    "import os.path as op\n",
    "import pandas as pd\n",
    "import math \n",
    "\n",
    "from matplotlib import pyplot as plt\n",
    "from sklearn.cross_validation import KFold\n",
    "from sklearn.model_selection import train_test_split as sk_split\n",
    "from sklearn.decomposition import TruncatedSVD as tSVD\n",
    "from sklearn.feature_extraction.text import CountVectorizer\n",
    "from sklearn.feature_extraction.text import TfidfVectorizer\n",
    "from scipy.io import mmwrite\n",
    "from sklearn.discriminant_analysis import LinearDiscriminantAnalysis as LDA\n",
    "from sklearn.discriminant_analysis import QuadraticDiscriminantAnalysis as QDA\n",
    "from sklearn.ensemble import AdaBoostClassifier as Boost\n",
    "from sklearn.ensemble import RandomForestClassifier as RFC\n",
    "from sklearn.linear_model import LinearRegression as Lin_Reg\n",
    "from sklearn.linear_model import LogisticRegression as Log_Reg\n",
    "from sklearn.neighbors import KNeighborsClassifier as KNN\n",
    "from sklearn.svm import SVC\n",
    "\n",
    "from IPython.display import display, HTML, Markdown\n",
    "%matplotlib inline\n",
    "plt.style.use('ggplot') \n",
    "def printmd(string):\n",
    "    display(Markdown(string))"
   ]
  },
  {
   "cell_type": "code",
   "execution_count": 2,
   "metadata": {
    "collapsed": false
   },
   "outputs": [],
   "source": [
    "movie_fields = ['imdb_id',\n",
    "                'Action','Adventure','Animation','Comedy','Crime','Documentary','Drama',\n",
    "                'Family','Fantasy','History','Horror','Music','Mystery',\n",
    "                'Romance','Sci-Fi','Thriller','War','Western']\n",
    "\n",
    "genres = movie_fields[1:len(movie_fields)]\n",
    "\n",
    "num_genres = len(genres)\n",
    "num_non_genre_cols = 1\n",
    "\n",
    "train_percent = 80"
   ]
  },
  {
   "cell_type": "markdown",
   "metadata": {},
   "source": [
    "##import data"
   ]
  },
  {
   "cell_type": "code",
   "execution_count": 3,
   "metadata": {
    "collapsed": false
   },
   "outputs": [],
   "source": [
    "#import clean IMDB data\n",
    "\n",
    "#ignore ,'Game-Show','News','Reality-TV', 'Biography','Adult','Film-Noir','Musical','Short','Sport','Talk-Show'\n",
    "df_im = pd.read_csv( './datasets/output/imdb_movies_trim.csv'\n",
    "                    , encoding='utf-8'\n",
    "                    , usecols = movie_fields)\n",
    "#reorder the columns\n",
    "df_im = df_im[movie_fields]\n",
    "#make genre names consistent with tmdb \n",
    "#df_im = df_im.rename(columns=['imdb_id'] + genres)\n",
    "\n",
    "#import people (ignore name)\n",
    "df_im_people = pd.read_csv('./datasets/output/imdb_people_trim.csv'\n",
    "                           ,encoding='utf-8'\n",
    "                           ,usecols = ['imdb_id','person_id','role_id'])\n",
    "df_im_people.drop_duplicates(inplace=True)"
   ]
  },
  {
   "cell_type": "code",
   "execution_count": 4,
   "metadata": {
    "collapsed": false
   },
   "outputs": [
    {
     "name": "stdout",
     "output_type": "stream",
     "text": [
      "\n",
      "Data dimensions: (36007, 19)\n"
     ]
    },
    {
     "data": {
      "text/html": [
       "<div>\n",
       "<table border=\"1\" class=\"dataframe\">\n",
       "  <thead>\n",
       "    <tr style=\"text-align: right;\">\n",
       "      <th></th>\n",
       "      <th>imdb_id</th>\n",
       "      <th>Action</th>\n",
       "      <th>Adventure</th>\n",
       "      <th>Animation</th>\n",
       "      <th>Comedy</th>\n",
       "      <th>Crime</th>\n",
       "      <th>Documentary</th>\n",
       "      <th>Drama</th>\n",
       "      <th>Family</th>\n",
       "      <th>Fantasy</th>\n",
       "      <th>History</th>\n",
       "      <th>Horror</th>\n",
       "      <th>Music</th>\n",
       "      <th>Mystery</th>\n",
       "      <th>Romance</th>\n",
       "      <th>Sci-Fi</th>\n",
       "      <th>Thriller</th>\n",
       "      <th>War</th>\n",
       "      <th>Western</th>\n",
       "    </tr>\n",
       "  </thead>\n",
       "  <tbody>\n",
       "    <tr>\n",
       "      <th>0</th>\n",
       "      <td>114709</td>\n",
       "      <td>0.0</td>\n",
       "      <td>1.0</td>\n",
       "      <td>1.0</td>\n",
       "      <td>1.0</td>\n",
       "      <td>0.0</td>\n",
       "      <td>0.0</td>\n",
       "      <td>0.0</td>\n",
       "      <td>1.0</td>\n",
       "      <td>1.0</td>\n",
       "      <td>0.0</td>\n",
       "      <td>0.0</td>\n",
       "      <td>0.0</td>\n",
       "      <td>0.0</td>\n",
       "      <td>0.0</td>\n",
       "      <td>0.0</td>\n",
       "      <td>0.0</td>\n",
       "      <td>0.0</td>\n",
       "      <td>0.0</td>\n",
       "    </tr>\n",
       "    <tr>\n",
       "      <th>1</th>\n",
       "      <td>113497</td>\n",
       "      <td>1.0</td>\n",
       "      <td>1.0</td>\n",
       "      <td>0.0</td>\n",
       "      <td>0.0</td>\n",
       "      <td>0.0</td>\n",
       "      <td>0.0</td>\n",
       "      <td>0.0</td>\n",
       "      <td>1.0</td>\n",
       "      <td>1.0</td>\n",
       "      <td>0.0</td>\n",
       "      <td>0.0</td>\n",
       "      <td>0.0</td>\n",
       "      <td>0.0</td>\n",
       "      <td>0.0</td>\n",
       "      <td>0.0</td>\n",
       "      <td>1.0</td>\n",
       "      <td>0.0</td>\n",
       "      <td>0.0</td>\n",
       "    </tr>\n",
       "    <tr>\n",
       "      <th>2</th>\n",
       "      <td>113228</td>\n",
       "      <td>0.0</td>\n",
       "      <td>0.0</td>\n",
       "      <td>0.0</td>\n",
       "      <td>1.0</td>\n",
       "      <td>0.0</td>\n",
       "      <td>0.0</td>\n",
       "      <td>0.0</td>\n",
       "      <td>0.0</td>\n",
       "      <td>0.0</td>\n",
       "      <td>0.0</td>\n",
       "      <td>0.0</td>\n",
       "      <td>0.0</td>\n",
       "      <td>0.0</td>\n",
       "      <td>1.0</td>\n",
       "      <td>0.0</td>\n",
       "      <td>0.0</td>\n",
       "      <td>0.0</td>\n",
       "      <td>0.0</td>\n",
       "    </tr>\n",
       "    <tr>\n",
       "      <th>3</th>\n",
       "      <td>114885</td>\n",
       "      <td>0.0</td>\n",
       "      <td>0.0</td>\n",
       "      <td>0.0</td>\n",
       "      <td>1.0</td>\n",
       "      <td>0.0</td>\n",
       "      <td>0.0</td>\n",
       "      <td>1.0</td>\n",
       "      <td>0.0</td>\n",
       "      <td>0.0</td>\n",
       "      <td>0.0</td>\n",
       "      <td>0.0</td>\n",
       "      <td>0.0</td>\n",
       "      <td>0.0</td>\n",
       "      <td>1.0</td>\n",
       "      <td>0.0</td>\n",
       "      <td>0.0</td>\n",
       "      <td>0.0</td>\n",
       "      <td>0.0</td>\n",
       "    </tr>\n",
       "    <tr>\n",
       "      <th>4</th>\n",
       "      <td>113041</td>\n",
       "      <td>0.0</td>\n",
       "      <td>0.0</td>\n",
       "      <td>0.0</td>\n",
       "      <td>1.0</td>\n",
       "      <td>0.0</td>\n",
       "      <td>0.0</td>\n",
       "      <td>0.0</td>\n",
       "      <td>1.0</td>\n",
       "      <td>0.0</td>\n",
       "      <td>0.0</td>\n",
       "      <td>0.0</td>\n",
       "      <td>0.0</td>\n",
       "      <td>0.0</td>\n",
       "      <td>1.0</td>\n",
       "      <td>0.0</td>\n",
       "      <td>0.0</td>\n",
       "      <td>0.0</td>\n",
       "      <td>0.0</td>\n",
       "    </tr>\n",
       "  </tbody>\n",
       "</table>\n",
       "</div>"
      ],
      "text/plain": [
       "   imdb_id  Action  Adventure  Animation  Comedy  Crime  Documentary  Drama  \\\n",
       "0   114709     0.0        1.0        1.0     1.0    0.0          0.0    0.0   \n",
       "1   113497     1.0        1.0        0.0     0.0    0.0          0.0    0.0   \n",
       "2   113228     0.0        0.0        0.0     1.0    0.0          0.0    0.0   \n",
       "3   114885     0.0        0.0        0.0     1.0    0.0          0.0    1.0   \n",
       "4   113041     0.0        0.0        0.0     1.0    0.0          0.0    0.0   \n",
       "\n",
       "   Family  Fantasy  History  Horror  Music  Mystery  Romance  Sci-Fi  \\\n",
       "0     1.0      1.0      0.0     0.0    0.0      0.0      0.0     0.0   \n",
       "1     1.0      1.0      0.0     0.0    0.0      0.0      0.0     0.0   \n",
       "2     0.0      0.0      0.0     0.0    0.0      0.0      1.0     0.0   \n",
       "3     0.0      0.0      0.0     0.0    0.0      0.0      1.0     0.0   \n",
       "4     1.0      0.0      0.0     0.0    0.0      0.0      1.0     0.0   \n",
       "\n",
       "   Thriller  War  Western  \n",
       "0       0.0  0.0      0.0  \n",
       "1       1.0  0.0      0.0  \n",
       "2       0.0  0.0      0.0  \n",
       "3       0.0  0.0      0.0  \n",
       "4       0.0  0.0      0.0  "
      ]
     },
     "metadata": {},
     "output_type": "display_data"
    }
   ],
   "source": [
    "# get overview of data\n",
    "print\n",
    "print(\"Data dimensions: \" + str(df_im.shape))\n",
    "display(df_im.head())"
   ]
  },
  {
   "cell_type": "code",
   "execution_count": 5,
   "metadata": {
    "collapsed": false
   },
   "outputs": [],
   "source": [
    "#function for plotting histograms\n",
    "def plot_hist(data, title, x_label, face, axes, log=False):\n",
    "    \n",
    "    axes.hist(   data, \n",
    "                 50, \n",
    "                 normed=0, \n",
    "                 facecolor=face, \n",
    "                 alpha=0.75,\n",
    "                 log = log\n",
    "             )\n",
    "    \n",
    "    axes.set_title(title)\n",
    "    axes.set_xlabel(x_label)\n",
    "    str_y_label = 'frequency'\n",
    "    if log:\n",
    "        str_y_label = str_y_label + ' (log)'\n",
    "    \n",
    "    axes.set_ylabel(str_y_label)\n",
    "    \n",
    "    return axes"
   ]
  },
  {
   "cell_type": "code",
   "execution_count": 6,
   "metadata": {
    "collapsed": false
   },
   "outputs": [
    {
     "data": {
      "image/png": "[encoded data removed]",
      "text/plain": [
       "<matplotlib.figure.Figure at 0x11a85ec90>"
      ]
     },
     "metadata": {},
     "output_type": "display_data"
    }
   ],
   "source": [
    "#plot histograms for each marker and each demographics\n",
    "#in the following, instead of adding one subplot to a 4x2 grid at a time\n",
    "#I can get all the subplot axes for the grid in one line \n",
    "fig, ax1 = plt.subplots(1, 1, figsize=(10, 10))\n",
    "\n",
    "ax1 = plot_hist(df_im_people['role_id'].values,\n",
    "                'Role distribution', \n",
    "                'roles', \n",
    "                'green', \n",
    "                ax1, log = True)\n",
    "\n",
    "plt.tight_layout()\n",
    "plt.show()"
   ]
  },
  {
   "cell_type": "markdown",
   "metadata": {},
   "source": [
    "For 36,000 movies we have around 2 million people/movie/role combinations. We need to get that down. Ae will start by filtering out some roles. While Actors is the bigest role we will keep it as we suspect it may be highly correlated to genre.\n",
    "\n",
    "role_id\t/ role\n",
    "\n",
    "Use These Roles\n",
    "- 1\tdirector\n",
    "- 2\twriter\n",
    "- 3\tcast\n",
    "- 5\toriginal music\n",
    "\n",
    "Ignore these Roles\n",
    "- 4\tproduction-manager\n",
    "- 6\tcasting director\n",
    "- 7\tvisual effects\t"
   ]
  },
  {
   "cell_type": "code",
   "execution_count": 7,
   "metadata": {
    "collapsed": true
   },
   "outputs": [],
   "source": [
    "#write movie_people_role data to in-memory SQLite db for preprocessing\n",
    "con = sqlite3.connect(\":memory:\")\n",
    "#con.isolation_level = None\n",
    "c = con.cursor()\n",
    "\n",
    "df_im_people.to_sql('movie_people_role', con, index=False)\n",
    "#df_im_people = None #Free up memory "
   ]
  },
  {
   "cell_type": "markdown",
   "metadata": {},
   "source": [
    "Get unique movie, person combinations\n",
    "\n",
    "a person may have more then one role in the movie.   \n",
    "Drop role and get distinct movie, person combination  \n",
    "Consider only director,writer,cast and original music roles  "
   ]
  },
  {
   "cell_type": "code",
   "execution_count": 8,
   "metadata": {
    "collapsed": false
   },
   "outputs": [
    {
     "data": {
      "text/plain": [
       "<sqlite3.Cursor at 0x11b2748f0>"
      ]
     },
     "execution_count": 8,
     "metadata": {},
     "output_type": "execute_result"
    }
   ],
   "source": [
    "c.execute('Create table movie_people as                                ' + \\\n",
    "          'SELECT imdb_id, person_id                                   ' + \\\n",
    "          '   , count(*) as roles                                      ' + \\\n",
    "          '   , sum(CASE role_id WHEN 3 THEN 1 ELSE 0 END) as is_actor ' + \\\n",
    "          'FROM movie_people_role                                      ' + \\\n",
    "          'WHERE role_id in (1,2,3,5)'\n",
    "          'GROUP BY imdb_id, person_id')\n",
    "\n",
    "#index movie_people for better query optimisation\n",
    "c.execute(\"CREATE UNIQUE INDEX IF NOT EXISTS pk_movie_person on movie_people (imdb_id, person_id)\")\n",
    "c.execute(\"CREATE UNIQUE INDEX IF NOT EXISTS person_movie    on movie_people (person_id,imdb_id)\")\n",
    "\n",
    "#Free up memory \n",
    "c.execute(\"DROP TABLE movie_people_role\")"
   ]
  },
  {
   "cell_type": "markdown",
   "metadata": {},
   "source": [
    "Count how many movies a person has been involved in and the number of roles"
   ]
  },
  {
   "cell_type": "code",
   "execution_count": 9,
   "metadata": {
    "collapsed": false
   },
   "outputs": [
    {
     "data": {
      "text/plain": [
       "<sqlite3.Cursor at 0x11b2748f0>"
      ]
     },
     "execution_count": 9,
     "metadata": {},
     "output_type": "execute_result"
    }
   ],
   "source": [
    "c.execute('Create table people as ' + \\\n",
    "          'SELECT DISTINCT person_id, count(imdb_id) as movies, sum(roles) as roles ' + \\\n",
    "          'FROM movie_people ' + \\\n",
    "          'GROUP BY person_id')\n",
    "\n",
    "#index people for better query optimisation\n",
    "c.execute(\"CREATE UNIQUE INDEX IF NOT EXISTS pk_person       on people (person_id)\")\n",
    "c.execute(\"CREATE INDEX IF NOT EXISTS person_movie_count     on people (movies, person_id)\")"
   ]
  },
  {
   "cell_type": "markdown",
   "metadata": {},
   "source": [
    "Look at the total number of movies a person is involved and the number of roles"
   ]
  },
  {
   "cell_type": "code",
   "execution_count": 10,
   "metadata": {
    "collapsed": false
   },
   "outputs": [
    {
     "data": {
      "image/png": "[encoded data removed]",
      "text/plain": [
       "<matplotlib.figure.Figure at 0x11a85ec50>"
      ]
     },
     "metadata": {},
     "output_type": "display_data"
    },
    {
     "data": {
      "text/html": [
       "<div>\n",
       "<table border=\"1\" class=\"dataframe\">\n",
       "  <thead>\n",
       "    <tr style=\"text-align: right;\">\n",
       "      <th></th>\n",
       "      <th>movies</th>\n",
       "      <th>people</th>\n",
       "      <th>roles</th>\n",
       "    </tr>\n",
       "  </thead>\n",
       "  <tbody>\n",
       "    <tr>\n",
       "      <th>0</th>\n",
       "      <td>36003</td>\n",
       "      <td>1420793</td>\n",
       "      <td>1453194</td>\n",
       "    </tr>\n",
       "  </tbody>\n",
       "</table>\n",
       "</div>"
      ],
      "text/plain": [
       "   movies   people    roles\n",
       "0   36003  1420793  1453194"
      ]
     },
     "execution_count": 10,
     "metadata": {},
     "output_type": "execute_result"
    }
   ],
   "source": [
    "df_people = pd.read_sql('select * from people', con)\n",
    "\n",
    "strsql =  'select   count(distinct imdb_id)   as movies   ' + \\\n",
    "          '       , count(*) as people                    ' + \\\n",
    "          '       , Sum(roles) as roles                   ' + \\\n",
    "          'from movie_people                              ' \n",
    "df_movies_count = pd.read_sql(strsql, con)\n",
    "\n",
    "\n",
    "#plot histograms for each marker and each demographics\n",
    "#in the following, instead of adding one subplot to a 4x2 grid at a time\n",
    "#I can get all the subplot axes for the grid in one line \n",
    "fig, ((ax1, ax2)) = plt.subplots(1, 2, figsize=(10, 10))\n",
    "\n",
    "ax1 = plot_hist(df_people['movies'].values,\n",
    "                'Total movies per person', \n",
    "                'movies', \n",
    "                'green', \n",
    "                ax1,\n",
    "                log = True\n",
    "               )\n",
    "\n",
    "ax2 = plot_hist(df_people['roles'].values,\n",
    "                'Total roles per person', \n",
    "                'roles', \n",
    "                'red', \n",
    "                ax2,\n",
    "                log = True\n",
    "               )\n",
    "\n",
    "plt.yscale('log')                                   \n",
    "plt.tight_layout()\n",
    "plt.show()\n",
    "\n",
    "df_movies_count"
   ]
  },
  {
   "cell_type": "markdown",
   "metadata": {},
   "source": [
    "After filtering the roles, we still have 1.4 million people. The majority of people have been involved in only one or two movies. Selecting people who have been involved more than 10 movies reduced the number of people down to 419 thousand. The trade off is that it leaves ~2,00 movies with no people asigned to it."
   ]
  },
  {
   "cell_type": "code",
   "execution_count": 11,
   "metadata": {
    "collapsed": false
   },
   "outputs": [
    {
     "data": {
      "image/png": "[encoded data removed]",
      "text/plain": [
       "<matplotlib.figure.Figure at 0x11ca57bd0>"
      ]
     },
     "metadata": {},
     "output_type": "display_data"
    },
    {
     "data": {
      "text/html": [
       "<div>\n",
       "<table border=\"1\" class=\"dataframe\">\n",
       "  <thead>\n",
       "    <tr style=\"text-align: right;\">\n",
       "      <th></th>\n",
       "      <th>movies</th>\n",
       "      <th>people</th>\n",
       "      <th>roles</th>\n",
       "    </tr>\n",
       "  </thead>\n",
       "  <tbody>\n",
       "    <tr>\n",
       "      <th>0</th>\n",
       "      <td>32017</td>\n",
       "      <td>419060</td>\n",
       "      <td>429704</td>\n",
       "    </tr>\n",
       "  </tbody>\n",
       "</table>\n",
       "</div>"
      ],
      "text/plain": [
       "   movies  people   roles\n",
       "0   32017  419060  429704"
      ]
     },
     "execution_count": 11,
     "metadata": {},
     "output_type": "execute_result"
    }
   ],
   "source": [
    "df_people = pd.read_sql('select * from people where movies > 10', con)\n",
    "\n",
    "strsql =  'select count(distinct mp.imdb_id)   as movies ' + \\\n",
    "          '     , count(mp.person_id)          as people ' + \\\n",
    "          '     , sum(mp.roles)                as roles  ' + \\\n",
    "          'from people p                                 ' + \\\n",
    "          ' inner join movie_people mp                   ' + \\\n",
    "          '         on (p.person_id = mp.person_id)      ' + \\\n",
    "          'where p.movies > 10                           ' \n",
    "\n",
    "            \n",
    "df_movies_count = pd.read_sql(strsql, con)\n",
    "\n",
    "#plot histograms for each marker and each demographics\n",
    "#in the following, instead of adding one subplot to a 4x2 grid at a time\n",
    "#I can get all the subplot axes for the grid in one line \n",
    "fig, ((ax1, ax2)) = plt.subplots(1, 2, figsize=(10, 10))\n",
    "\n",
    "ax1 = plot_hist(df_people['movies'].values,\n",
    "                'Total movies per person', \n",
    "                'movies', \n",
    "                'green', \n",
    "                ax1, \n",
    "                True)\n",
    "\n",
    "ax2 = plot_hist(df_people['roles'].values,\n",
    "                'Total roles per person', \n",
    "                'roles', \n",
    "                'red', \n",
    "                ax2, \n",
    "                True)\n",
    "\n",
    "plt.tight_layout()\n",
    "plt.show()\n",
    "\n",
    "df_movies_count"
   ]
  },
  {
   "cell_type": "markdown",
   "metadata": {},
   "source": [
    "Merge movie responses and people matrix"
   ]
  },
  {
   "cell_type": "code",
   "execution_count": 12,
   "metadata": {
    "collapsed": true
   },
   "outputs": [],
   "source": [
    "#extract the movie/people combinateions we are interested in\n",
    "strsql =  'select mp.imdb_id     as imdb_id              ' + \\\n",
    "          '     , mp.person_id   as person_id            ' + \\\n",
    "          'from people p                                 ' + \\\n",
    "          ' inner join movie_people mp                   ' + \\\n",
    "          '         on (p.person_id = mp.person_id)      ' + \\\n",
    "          'where p.movies > 10                           ' \n",
    "df_people = pd.read_sql(strsql, con)\n",
    "\n",
    "#pivot from stacked db list to 1 wide row per movie \n",
    "#columns now (imdb_id, person_1, person_2,...persion_n)\n",
    "df_people_xt = pd.crosstab(df_people.imdb_id, df_people.person_id, margins=False)\n",
    "\n",
    "#merge by movie_id to make sure the response and predictors align\n",
    "df_people_xt['imdb_id_p'] = df_people_xt.index\n",
    "data = pd.merge(left = df_im , right = df_people_xt, left_on='imdb_id', right_on='imdb_id_p')\n",
    "\n",
    "#drop duplicate IMDB_id column\n",
    "data = data.ix[:,:-2]"
   ]
  },
  {
   "cell_type": "markdown",
   "metadata": {},
   "source": [
    "split into (x and y) and (test and train) "
   ]
  },
  {
   "cell_type": "code",
   "execution_count": 13,
   "metadata": {
    "collapsed": true
   },
   "outputs": [],
   "source": [
    "#split into x (people) and y (genres)\n",
    "y = data.ix[:,:len(df_im.columns)]\n",
    "x = data.ix[:,len(df_im.columns):-1]\n",
    "\n",
    "#split into test & train\n",
    "n_samples = x.shape[0]\n",
    "train = np.random.uniform(size=n_samples) > float(train_percent) / 100.\n",
    "\n",
    "x_train = x[train]\n",
    "y_train = y[train]\n",
    "\n",
    "x_test = x[~train]\n",
    "y_test = y[~train]"
   ]
  },
  {
   "cell_type": "markdown",
   "metadata": {},
   "source": [
    "Apply TSVD to reduce predictors"
   ]
  },
  {
   "cell_type": "code",
   "execution_count": 14,
   "metadata": {
    "collapsed": false
   },
   "outputs": [
    {
     "name": "stdout",
     "output_type": "stream",
     "text": [
      "\n",
      "Cumulative percentage of variance explained: 0.1197\n"
     ]
    }
   ],
   "source": [
    "# apply SVD to people matrix (train)\n",
    "tsvd = tSVD(n_components = 100)\n",
    "tsvd.fit(x_train)\n",
    "x_train_pca = tsvd.transform(x_train)\n",
    "print\n",
    "print(\"Cumulative percentage of variance explained: \" + \\\n",
    "      str(round(tsvd.explained_variance_ratio_.sum(), 4)))"
   ]
  },
  {
   "cell_type": "code",
   "execution_count": 15,
   "metadata": {
    "collapsed": false
   },
   "outputs": [],
   "source": [
    "pc1 = tsvd.components_[1]\n",
    "pc1_top_loadings = np.where(pc1 > 10**-1.75)"
   ]
  },
  {
   "cell_type": "code",
   "execution_count": 16,
   "metadata": {
    "collapsed": true
   },
   "outputs": [],
   "source": [
    "# apply SVD to people matrix (test)\n",
    "x_test_pca = tsvd.transform(x_test)"
   ]
  },
  {
   "cell_type": "markdown",
   "metadata": {},
   "source": [
    "### Utility Functions"
   ]
  },
  {
   "cell_type": "code",
   "execution_count": 17,
   "metadata": {
    "collapsed": true
   },
   "outputs": [],
   "source": [
    "# define model codes\n",
    "log_reg = 2\n",
    "lda = 3\n",
    "qda = 4\n",
    "knn = 5\n",
    "rfc = 6\n",
    "boost = 7\n",
    "svm = 8"
   ]
  },
  {
   "cell_type": "code",
   "execution_count": 18,
   "metadata": {
    "collapsed": true
   },
   "outputs": [],
   "source": [
    "# function to return name of model type\n",
    "def get_model_name(model_type):\n",
    "    if model_type == log_reg:\n",
    "        model_name = \"logistic regression\"\n",
    "    elif model_type == lda:\n",
    "        model_name = \"LDA\"\n",
    "    elif model_type == qda:\n",
    "        model_name = \"QDA\"\n",
    "    elif model_type == knn:\n",
    "        model_name = \"KNN\"\n",
    "    elif model_type == rfc:\n",
    "        model_name = \"random forests\"\n",
    "    elif model_type == boost:\n",
    "        model_name = \"boost\"\n",
    "    elif model_type == svm:\n",
    "        model_name = \"SVM\"\n",
    "    else:\n",
    "        model_name = \"\"\n",
    "        \n",
    "    return model_name"
   ]
  },
  {
   "cell_type": "code",
   "execution_count": 19,
   "metadata": {
    "collapsed": true
   },
   "outputs": [],
   "source": [
    "# function to return unfitted model of given type\n",
    "def get_model_instance(model_type, y):\n",
    "    default_ratio = (y == 1).sum() / float(len(y))\n",
    "    priors = (default_ratio, 1.0 - default_ratio)\n",
    "    \n",
    "    if model_type == log_reg:\n",
    "         model_instance = Log_Reg(C = 1, class_weight = 'balanced', \n",
    "                                  n_jobs = 3)\n",
    "    elif model_type == lda:\n",
    "        model_instance = LDA(priors = priors)\n",
    "    elif model_type == qda:\n",
    "        model_instance = QDA(reg_param = 0.25)\n",
    "    elif model_type == knn:\n",
    "        model_instance = KNN(n_neighbors = 5)\n",
    "    elif model_type == rfc:\n",
    "        model_instance = RFC(n_estimators = 20, class_weight = 'balanced',\n",
    "                            max_features = 'auto', max_depth = None, \n",
    "                             n_jobs = 3)\n",
    "    elif model_type == boost:\n",
    "        model_instance = Boost()\n",
    "    elif model_type == svm:\n",
    "        model_instance = SVC(kernel = 'poly', degree = 2, \n",
    "                             class_weight = 'balanced')\n",
    "    else:\n",
    "        model_instance = None\n",
    "        \n",
    "    return model_instance"
   ]
  },
  {
   "cell_type": "code",
   "execution_count": 20,
   "metadata": {
    "collapsed": true
   },
   "outputs": [],
   "source": [
    "# function to fit and score one model of given type\n",
    "def cross_validate_one_model(x, y, model_type):\n",
    "    np.random.seed(42)\n",
    "        \n",
    "    train_score_accum = 0\n",
    "    test_score_accum = 0\n",
    "\n",
    "    n_folds = 5\n",
    "    kf = KFold(x.shape[0], n_folds = n_folds)\n",
    "    for train_index, test_index in kf:\n",
    "        x_train, x_test = x[train_index], x[test_index]\n",
    "        y_train, y_test = y.values[train_index], y.values[test_index]\n",
    "  \n",
    "        model = get_model_instance(model_type, y_train)\n",
    "        model.fit(x_train, y_train)\n",
    "        y_predict = model.predict(x_test)\n",
    "        \n",
    "        train_score_accum += model.score(x_train, y_train)\n",
    "        test_score_accum += model.score(x_test, y_test)\n",
    "\n",
    "    # calculate accuracy\n",
    "    train_score = train_score_accum / float(n_folds)\n",
    "    test_score = test_score_accum / float(n_folds)\n",
    "    \n",
    "    return test_score"
   ]
  },
  {
   "cell_type": "code",
   "execution_count": 21,
   "metadata": {
    "collapsed": true
   },
   "outputs": [],
   "source": [
    "# function to fit and score one model of given type\n",
    "def fit_and_score_one_model(x_train, y_train, x_test, y_test, model_type):\n",
    "    np.random.seed(42)\n",
    "\n",
    "    model = get_model_instance(model_type, y_train)\n",
    "    model.fit(x_train, y_train)\n",
    "    y_predict = model.predict(x_test)\n",
    "\n",
    "    train_score = model.score(x_train, y_train)\n",
    "    test_score  = model.score(x_test , y_test)\n",
    "    \n",
    "    return y_predict, test_score"
   ]
  },
  {
   "cell_type": "markdown",
   "metadata": {},
   "source": [
    "### Modeling  \n",
    "  \n",
    "Each model below is fit on training data and then scored on testing data.  \n",
    "  \n",
    "#### Different Model Types  "
   ]
  },
  {
   "cell_type": "code",
   "execution_count": 22,
   "metadata": {
    "collapsed": false
   },
   "outputs": [],
   "source": [
    "model_types = [lda, log_reg, qda, rfc]\n",
    "model_names = ['Linear Discriminant Analysis', 'Logistic Regression', \\\n",
    "               'Quadratic Discriminant Analysis', 'Random Forest Classifier']\n",
    "num_model_types = len(model_types)\n",
    "test_scores_models = np.zeros(num_model_types)\n",
    "\n",
    "# fit and score model on each genre\n",
    "for i in range(num_model_types):\n",
    "    test_scores_models[i] = \\\n",
    "        cross_validate_one_model(x_train_pca, y_train.Action, \n",
    "                                 model_types[i])"
   ]
  },
  {
   "cell_type": "code",
   "execution_count": 23,
   "metadata": {
    "collapsed": false
   },
   "outputs": [
    {
     "name": "stdout",
     "output_type": "stream",
     "text": [
      "\n"
     ]
    },
    {
     "data": {
      "text/markdown": [
       "Test Accuracy during Cross-Validation"
      ],
      "text/plain": [
       "<IPython.core.display.Markdown object>"
      ]
     },
     "metadata": {},
     "output_type": "display_data"
    },
    {
     "data": {
      "text/html": [
       "<div>\n",
       "<table border=\"1\" class=\"dataframe\">\n",
       "  <thead>\n",
       "    <tr style=\"text-align: right;\">\n",
       "      <th></th>\n",
       "      <th>Accuracy</th>\n",
       "    </tr>\n",
       "  </thead>\n",
       "  <tbody>\n",
       "    <tr>\n",
       "      <th>Linear Discriminant Analysis</th>\n",
       "      <td>0.18</td>\n",
       "    </tr>\n",
       "    <tr>\n",
       "      <th>Logistic Regression</th>\n",
       "      <td>0.78</td>\n",
       "    </tr>\n",
       "    <tr>\n",
       "      <th>Quadratic Discriminant Analysis</th>\n",
       "      <td>0.85</td>\n",
       "    </tr>\n",
       "    <tr>\n",
       "      <th>Random Forest Classifier</th>\n",
       "      <td>0.86</td>\n",
       "    </tr>\n",
       "  </tbody>\n",
       "</table>\n",
       "</div>"
      ],
      "text/plain": [
       "                                 Accuracy\n",
       "Linear Discriminant Analysis         0.18\n",
       "Logistic Regression                  0.78\n",
       "Quadratic Discriminant Analysis      0.85\n",
       "Random Forest Classifier             0.86"
      ]
     },
     "metadata": {},
     "output_type": "display_data"
    }
   ],
   "source": [
    "test_scores_models_df = pd.DataFrame(test_scores_models, columns = ['Accuracy'])\n",
    "test_scores_models_df.Accuracy = test_scores_models_df.Accuracy.round(2)\n",
    "test_scores_models_df.index = model_names\n",
    "\n",
    "print\n",
    "printmd(\"Test Accuracy during Cross-Validation\")\n",
    "display(test_scores_models_df)"
   ]
  },
  {
   "cell_type": "markdown",
   "metadata": {},
   "source": [
    "#### Different Genre Types - Random Forest"
   ]
  },
  {
   "cell_type": "code",
   "execution_count": 24,
   "metadata": {
    "collapsed": false
   },
   "outputs": [],
   "source": [
    "y_predict_all_rf = np.zeros([y_test.shape[0], num_genres])\n",
    "test_scores_all_rf = np.zeros(num_genres)\n",
    "\n",
    "# fit and score model on each genre\n",
    "for i in range(num_genres):\n",
    "    y_predict_all_rf[:, i], test_scores_all_rf[i] = \\\n",
    "        fit_and_score_one_model(x_train_pca, \n",
    "                                y_train.iloc[:, i + num_non_genre_cols], \n",
    "                                x_test_pca, \n",
    "                                y_test.iloc[: , i + num_non_genre_cols], \n",
    "                                rfc)"
   ]
  },
  {
   "cell_type": "code",
   "execution_count": 25,
   "metadata": {
    "collapsed": false
   },
   "outputs": [
    {
     "name": "stdout",
     "output_type": "stream",
     "text": [
      "\n"
     ]
    },
    {
     "data": {
      "text/markdown": [
       "Prediction Accuracy on Testing Data (with Random Forest)"
      ],
      "text/plain": [
       "<IPython.core.display.Markdown object>"
      ]
     },
     "metadata": {},
     "output_type": "display_data"
    },
    {
     "data": {
      "text/html": [
       "<div>\n",
       "<table border=\"1\" class=\"dataframe\">\n",
       "  <thead>\n",
       "    <tr style=\"text-align: right;\">\n",
       "      <th></th>\n",
       "      <th>Accuracy</th>\n",
       "    </tr>\n",
       "  </thead>\n",
       "  <tbody>\n",
       "    <tr>\n",
       "      <th>Action</th>\n",
       "      <td>0.86</td>\n",
       "    </tr>\n",
       "    <tr>\n",
       "      <th>Adventure</th>\n",
       "      <td>0.90</td>\n",
       "    </tr>\n",
       "    <tr>\n",
       "      <th>Animation</th>\n",
       "      <td>0.97</td>\n",
       "    </tr>\n",
       "    <tr>\n",
       "      <th>Comedy</th>\n",
       "      <td>0.70</td>\n",
       "    </tr>\n",
       "    <tr>\n",
       "      <th>Crime</th>\n",
       "      <td>0.85</td>\n",
       "    </tr>\n",
       "    <tr>\n",
       "      <th>Documentary</th>\n",
       "      <td>0.94</td>\n",
       "    </tr>\n",
       "    <tr>\n",
       "      <th>Drama</th>\n",
       "      <td>0.62</td>\n",
       "    </tr>\n",
       "    <tr>\n",
       "      <th>Family</th>\n",
       "      <td>0.94</td>\n",
       "    </tr>\n",
       "    <tr>\n",
       "      <th>Fantasy</th>\n",
       "      <td>0.92</td>\n",
       "    </tr>\n",
       "    <tr>\n",
       "      <th>History</th>\n",
       "      <td>0.95</td>\n",
       "    </tr>\n",
       "    <tr>\n",
       "      <th>Horror</th>\n",
       "      <td>0.89</td>\n",
       "    </tr>\n",
       "    <tr>\n",
       "      <th>Music</th>\n",
       "      <td>0.96</td>\n",
       "    </tr>\n",
       "    <tr>\n",
       "      <th>Mystery</th>\n",
       "      <td>0.92</td>\n",
       "    </tr>\n",
       "    <tr>\n",
       "      <th>Romance</th>\n",
       "      <td>0.79</td>\n",
       "    </tr>\n",
       "    <tr>\n",
       "      <th>Sci-Fi</th>\n",
       "      <td>0.91</td>\n",
       "    </tr>\n",
       "    <tr>\n",
       "      <th>Thriller</th>\n",
       "      <td>0.78</td>\n",
       "    </tr>\n",
       "    <tr>\n",
       "      <th>War</th>\n",
       "      <td>0.94</td>\n",
       "    </tr>\n",
       "    <tr>\n",
       "      <th>Western</th>\n",
       "      <td>0.97</td>\n",
       "    </tr>\n",
       "  </tbody>\n",
       "</table>\n",
       "</div>"
      ],
      "text/plain": [
       "             Accuracy\n",
       "Action           0.86\n",
       "Adventure        0.90\n",
       "Animation        0.97\n",
       "Comedy           0.70\n",
       "Crime            0.85\n",
       "Documentary      0.94\n",
       "Drama            0.62\n",
       "Family           0.94\n",
       "Fantasy          0.92\n",
       "History          0.95\n",
       "Horror           0.89\n",
       "Music            0.96\n",
       "Mystery          0.92\n",
       "Romance          0.79\n",
       "Sci-Fi           0.91\n",
       "Thriller         0.78\n",
       "War              0.94\n",
       "Western          0.97"
      ]
     },
     "metadata": {},
     "output_type": "display_data"
    }
   ],
   "source": [
    "test_scores_all_rf_df = pd.DataFrame(test_scores_all_rf, columns = ['Accuracy'])\n",
    "test_scores_all_rf_df.Accuracy = test_scores_all_rf_df.Accuracy.round(2)\n",
    "test_scores_all_rf_df.index = genres\n",
    "\n",
    "print\n",
    "printmd(\"Prediction Accuracy on Testing Data (with Random Forest)\")\n",
    "display(test_scores_all_rf_df)"
   ]
  },
  {
   "cell_type": "code",
   "execution_count": 26,
   "metadata": {
    "collapsed": false
   },
   "outputs": [
    {
     "data": {
      "text/markdown": [],
      "text/plain": [
       "<IPython.core.display.Markdown object>"
      ]
     },
     "metadata": {},
     "output_type": "display_data"
    },
    {
     "data": {
      "text/markdown": [
       "The average test accuracy over all genres is 0.88"
      ],
      "text/plain": [
       "<IPython.core.display.Markdown object>"
      ]
     },
     "metadata": {},
     "output_type": "display_data"
    }
   ],
   "source": [
    "avg_score_rf = test_scores_all_rf_df.Accuracy.mean()\n",
    "printmd(\"\")\n",
    "printmd(\"The average test accuracy over all genres is \" + \\\n",
    "        \"{:.2f}\".format(round(avg_score_rf, 2)))"
   ]
  },
  {
   "cell_type": "code",
   "execution_count": 27,
   "metadata": {
    "collapsed": false
   },
   "outputs": [
    {
     "data": {
      "text/markdown": [],
      "text/plain": [
       "<IPython.core.display.Markdown object>"
      ]
     },
     "metadata": {},
     "output_type": "display_data"
    },
    {
     "data": {
      "text/markdown": [
       "Description of Test Accuracy (with Random Forest)"
      ],
      "text/plain": [
       "<IPython.core.display.Markdown object>"
      ]
     },
     "metadata": {},
     "output_type": "display_data"
    },
    {
     "data": {
      "text/html": [
       "<div>\n",
       "<table border=\"1\" class=\"dataframe\">\n",
       "  <thead>\n",
       "    <tr style=\"text-align: right;\">\n",
       "      <th></th>\n",
       "      <th>Accuracy</th>\n",
       "    </tr>\n",
       "  </thead>\n",
       "  <tbody>\n",
       "    <tr>\n",
       "      <th>count</th>\n",
       "      <td>18.000000</td>\n",
       "    </tr>\n",
       "    <tr>\n",
       "      <th>mean</th>\n",
       "      <td>0.878333</td>\n",
       "    </tr>\n",
       "    <tr>\n",
       "      <th>std</th>\n",
       "      <td>0.097694</td>\n",
       "    </tr>\n",
       "    <tr>\n",
       "      <th>min</th>\n",
       "      <td>0.620000</td>\n",
       "    </tr>\n",
       "    <tr>\n",
       "      <th>25%</th>\n",
       "      <td>0.852500</td>\n",
       "    </tr>\n",
       "    <tr>\n",
       "      <th>50%</th>\n",
       "      <td>0.915000</td>\n",
       "    </tr>\n",
       "    <tr>\n",
       "      <th>75%</th>\n",
       "      <td>0.940000</td>\n",
       "    </tr>\n",
       "    <tr>\n",
       "      <th>max</th>\n",
       "      <td>0.970000</td>\n",
       "    </tr>\n",
       "  </tbody>\n",
       "</table>\n",
       "</div>"
      ],
      "text/plain": [
       "        Accuracy\n",
       "count  18.000000\n",
       "mean    0.878333\n",
       "std     0.097694\n",
       "min     0.620000\n",
       "25%     0.852500\n",
       "50%     0.915000\n",
       "75%     0.940000\n",
       "max     0.970000"
      ]
     },
     "execution_count": 27,
     "metadata": {},
     "output_type": "execute_result"
    }
   ],
   "source": [
    "printmd(\"\")\n",
    "printmd(\"Description of Test Accuracy (with Random Forest)\")\n",
    "test_scores_all_rf_df.describe()"
   ]
  },
  {
   "cell_type": "code",
   "execution_count": 30,
   "metadata": {
    "collapsed": false
   },
   "outputs": [
    {
     "data": {
      "text/markdown": [],
      "text/plain": [
       "<IPython.core.display.Markdown object>"
      ]
     },
     "metadata": {},
     "output_type": "display_data"
    },
    {
     "data": {
      "text/markdown": [
       "The average accuracy of Random Forests predicting multiple genres per movie is 0.88"
      ],
      "text/plain": [
       "<IPython.core.display.Markdown object>"
      ]
     },
     "metadata": {},
     "output_type": "display_data"
    }
   ],
   "source": [
    "accu_all_rf = (y_predict_all_rf ==\n",
    "            y_test.ix[:, num_non_genre_cols:(num_genres + num_non_genre_cols)])\n",
    "per_movie_accu_rf = np.sum(accu_all_rf, axis = 1) / num_genres\n",
    "avg_per_movie_accu_rf = per_movie_accu_rf.mean()\n",
    "\n",
    "printmd(\"\")\n",
    "printmd(\"The average accuracy of Random Forests predicting multiple genres per movie is \" + \\\n",
    "      \"{:.2f}\".format(round(avg_per_movie_accu_rf, 2)))"
   ]
  },
  {
   "cell_type": "markdown",
   "metadata": {},
   "source": [
    "#### Different Genre Types - QDA"
   ]
  },
  {
   "cell_type": "code",
   "execution_count": 31,
   "metadata": {
    "collapsed": false
   },
   "outputs": [],
   "source": [
    "y_predict_all_qda = np.zeros([y_test.shape[0], num_genres])\n",
    "test_scores_all_qda = np.zeros(num_genres)\n",
    "\n",
    "# fit and score model on each genre\n",
    "for i in range(num_genres):\n",
    "    y_predict_all_qda[:, i], test_scores_all_qda[i] = \\\n",
    "        fit_and_score_one_model(x_train_pca, \n",
    "                                y_train.iloc[:, i + num_non_genre_cols], \n",
    "                                x_test_pca, \n",
    "                                y_test.iloc[: , i + num_non_genre_cols], \n",
    "                                qda)"
   ]
  },
  {
   "cell_type": "code",
   "execution_count": 33,
   "metadata": {
    "collapsed": false
   },
   "outputs": [
    {
     "name": "stdout",
     "output_type": "stream",
     "text": [
      "\n"
     ]
    },
    {
     "data": {
      "text/markdown": [
       "Prediction Accuracy on Testing Data (with QDA)"
      ],
      "text/plain": [
       "<IPython.core.display.Markdown object>"
      ]
     },
     "metadata": {},
     "output_type": "display_data"
    },
    {
     "data": {
      "text/html": [
       "<div>\n",
       "<table border=\"1\" class=\"dataframe\">\n",
       "  <thead>\n",
       "    <tr style=\"text-align: right;\">\n",
       "      <th></th>\n",
       "      <th>Accuracy</th>\n",
       "    </tr>\n",
       "  </thead>\n",
       "  <tbody>\n",
       "    <tr>\n",
       "      <th>Action</th>\n",
       "      <td>0.85</td>\n",
       "    </tr>\n",
       "    <tr>\n",
       "      <th>Adventure</th>\n",
       "      <td>0.89</td>\n",
       "    </tr>\n",
       "    <tr>\n",
       "      <th>Animation</th>\n",
       "      <td>0.96</td>\n",
       "    </tr>\n",
       "    <tr>\n",
       "      <th>Comedy</th>\n",
       "      <td>0.66</td>\n",
       "    </tr>\n",
       "    <tr>\n",
       "      <th>Crime</th>\n",
       "      <td>0.85</td>\n",
       "    </tr>\n",
       "    <tr>\n",
       "      <th>Documentary</th>\n",
       "      <td>0.94</td>\n",
       "    </tr>\n",
       "    <tr>\n",
       "      <th>Drama</th>\n",
       "      <td>0.49</td>\n",
       "    </tr>\n",
       "    <tr>\n",
       "      <th>Family</th>\n",
       "      <td>0.93</td>\n",
       "    </tr>\n",
       "    <tr>\n",
       "      <th>Fantasy</th>\n",
       "      <td>0.93</td>\n",
       "    </tr>\n",
       "    <tr>\n",
       "      <th>History</th>\n",
       "      <td>0.96</td>\n",
       "    </tr>\n",
       "    <tr>\n",
       "      <th>Horror</th>\n",
       "      <td>0.89</td>\n",
       "    </tr>\n",
       "    <tr>\n",
       "      <th>Music</th>\n",
       "      <td>0.96</td>\n",
       "    </tr>\n",
       "    <tr>\n",
       "      <th>Mystery</th>\n",
       "      <td>0.92</td>\n",
       "    </tr>\n",
       "    <tr>\n",
       "      <th>Romance</th>\n",
       "      <td>0.80</td>\n",
       "    </tr>\n",
       "    <tr>\n",
       "      <th>Sci-Fi</th>\n",
       "      <td>0.92</td>\n",
       "    </tr>\n",
       "    <tr>\n",
       "      <th>Thriller</th>\n",
       "      <td>0.79</td>\n",
       "    </tr>\n",
       "    <tr>\n",
       "      <th>War</th>\n",
       "      <td>0.95</td>\n",
       "    </tr>\n",
       "    <tr>\n",
       "      <th>Western</th>\n",
       "      <td>0.97</td>\n",
       "    </tr>\n",
       "  </tbody>\n",
       "</table>\n",
       "</div>"
      ],
      "text/plain": [
       "             Accuracy\n",
       "Action           0.85\n",
       "Adventure        0.89\n",
       "Animation        0.96\n",
       "Comedy           0.66\n",
       "Crime            0.85\n",
       "Documentary      0.94\n",
       "Drama            0.49\n",
       "Family           0.93\n",
       "Fantasy          0.93\n",
       "History          0.96\n",
       "Horror           0.89\n",
       "Music            0.96\n",
       "Mystery          0.92\n",
       "Romance          0.80\n",
       "Sci-Fi           0.92\n",
       "Thriller         0.79\n",
       "War              0.95\n",
       "Western          0.97"
      ]
     },
     "metadata": {},
     "output_type": "display_data"
    }
   ],
   "source": [
    "test_scores_all_qda_df = pd.DataFrame(test_scores_all_qda, columns = ['Accuracy'])\n",
    "test_scores_all_qda_df.Accuracy = test_scores_all_qda_df.Accuracy.round(2)\n",
    "test_scores_all_qda_df.index = genres\n",
    "\n",
    "print\n",
    "printmd(\"Prediction Accuracy on Testing Data (with QDA)\")\n",
    "display(test_scores_all_qda_df)"
   ]
  },
  {
   "cell_type": "code",
   "execution_count": 34,
   "metadata": {
    "collapsed": false
   },
   "outputs": [
    {
     "data": {
      "text/markdown": [],
      "text/plain": [
       "<IPython.core.display.Markdown object>"
      ]
     },
     "metadata": {},
     "output_type": "display_data"
    },
    {
     "data": {
      "text/markdown": [
       "The average test accuracy over all genres is 0.87"
      ],
      "text/plain": [
       "<IPython.core.display.Markdown object>"
      ]
     },
     "metadata": {},
     "output_type": "display_data"
    }
   ],
   "source": [
    "avg_score_qda = test_scores_all_qda_df.Accuracy.mean()\n",
    "printmd(\"\")\n",
    "printmd(\"The average test accuracy over all genres is \" + \\\n",
    "        \"{:.2f}\".format(round(avg_score_qda, 2)))"
   ]
  },
  {
   "cell_type": "code",
   "execution_count": 35,
   "metadata": {
    "collapsed": false
   },
   "outputs": [
    {
     "data": {
      "text/markdown": [],
      "text/plain": [
       "<IPython.core.display.Markdown object>"
      ]
     },
     "metadata": {},
     "output_type": "display_data"
    },
    {
     "data": {
      "text/markdown": [
       "Description of Test Accuracy (with QDA)"
      ],
      "text/plain": [
       "<IPython.core.display.Markdown object>"
      ]
     },
     "metadata": {},
     "output_type": "display_data"
    },
    {
     "data": {
      "text/html": [
       "<div>\n",
       "<table border=\"1\" class=\"dataframe\">\n",
       "  <thead>\n",
       "    <tr style=\"text-align: right;\">\n",
       "      <th></th>\n",
       "      <th>Accuracy</th>\n",
       "    </tr>\n",
       "  </thead>\n",
       "  <tbody>\n",
       "    <tr>\n",
       "      <th>count</th>\n",
       "      <td>18.000000</td>\n",
       "    </tr>\n",
       "    <tr>\n",
       "      <th>mean</th>\n",
       "      <td>0.870000</td>\n",
       "    </tr>\n",
       "    <tr>\n",
       "      <th>std</th>\n",
       "      <td>0.123479</td>\n",
       "    </tr>\n",
       "    <tr>\n",
       "      <th>min</th>\n",
       "      <td>0.490000</td>\n",
       "    </tr>\n",
       "    <tr>\n",
       "      <th>25%</th>\n",
       "      <td>0.850000</td>\n",
       "    </tr>\n",
       "    <tr>\n",
       "      <th>50%</th>\n",
       "      <td>0.920000</td>\n",
       "    </tr>\n",
       "    <tr>\n",
       "      <th>75%</th>\n",
       "      <td>0.947500</td>\n",
       "    </tr>\n",
       "    <tr>\n",
       "      <th>max</th>\n",
       "      <td>0.970000</td>\n",
       "    </tr>\n",
       "  </tbody>\n",
       "</table>\n",
       "</div>"
      ],
      "text/plain": [
       "        Accuracy\n",
       "count  18.000000\n",
       "mean    0.870000\n",
       "std     0.123479\n",
       "min     0.490000\n",
       "25%     0.850000\n",
       "50%     0.920000\n",
       "75%     0.947500\n",
       "max     0.970000"
      ]
     },
     "execution_count": 35,
     "metadata": {},
     "output_type": "execute_result"
    }
   ],
   "source": [
    "printmd(\"\")\n",
    "printmd(\"Description of Test Accuracy (with QDA)\")\n",
    "test_scores_all_qda_df.describe()"
   ]
  },
  {
   "cell_type": "code",
   "execution_count": 37,
   "metadata": {
    "collapsed": false
   },
   "outputs": [
    {
     "data": {
      "text/markdown": [],
      "text/plain": [
       "<IPython.core.display.Markdown object>"
      ]
     },
     "metadata": {},
     "output_type": "display_data"
    },
    {
     "data": {
      "text/markdown": [
       "The average accuracy of predicting multiple genres per movie is 0.87"
      ],
      "text/plain": [
       "<IPython.core.display.Markdown object>"
      ]
     },
     "metadata": {},
     "output_type": "display_data"
    }
   ],
   "source": [
    "accu_all_qda = (y_predict_all_qda ==\n",
    "            y_test.ix[:, num_non_genre_cols:(num_genres + num_non_genre_cols)])\n",
    "per_movie_accu_qda = np.sum(accu_all_qda, axis = 1) / num_genres\n",
    "avg_per_movie_accu_qda = per_movie_accu_qda.mean()\n",
    "\n",
    "printmd(\"\")\n",
    "printmd(\"The average accuracy of predicting multiple genres per movie is \" + \\\n",
    "      \"{:.2f}\".format(round(avg_per_movie_accu_qda, 2)))"
   ]
  },
  {
   "cell_type": "markdown",
   "metadata": {},
   "source": [
    "#### Comparing Accuracy with Random Forest and QDA"
   ]
  },
  {
   "cell_type": "code",
   "execution_count": 39,
   "metadata": {
    "collapsed": false
   },
   "outputs": [
    {
     "name": "stdout",
     "output_type": "stream",
     "text": [
      "\n"
     ]
    },
    {
     "data": {
      "image/png": "[encoded data removed]",
      "text/plain": [
       "<matplotlib.figure.Figure at 0x10b73b850>"
      ]
     },
     "metadata": {},
     "output_type": "display_data"
    }
   ],
   "source": [
    "### plot genre accuracy for RF vs. QDA\n",
    "test_scores_all_rf_df = test_scores_all_rf_df.sort_values(by = 'Accuracy', ascending = False)\n",
    "test_scores_all_qda_df = test_scores_all_qda_df.sort_values(by = 'Accuracy', ascending = False)\n",
    "\n",
    "width = 0.3\n",
    "\n",
    "print\n",
    "fig = plt.figure(figsize = (10, 5))\n",
    "ax = fig.add_subplot(1, 1, 1)\n",
    "rects_1 = ax.bar(range(num_genres), \n",
    "       test_scores_all_rf_df.Accuracy, width = width, color = 'darkblue', \n",
    "       edgecolor = 'white')\n",
    "rects_2 = ax.bar(np.repeat(0.35, num_genres) + range(num_genres), \n",
    "       test_scores_all_qda_df.Accuracy, width = width, color = 'darkred', \n",
    "       edgecolor = 'white')\n",
    "ax.set_xticks(range(num_genres))\n",
    "ax.set_xticklabels(test_scores_all_rf_df.index.values, rotation = 90)\n",
    "ax.set_xlabel(\"Genre\")\n",
    "ax.set_ylabel(\"Accuracy\")\n",
    "ax.set_title(\"People Model: Test Accuracy by Genre with RF and QDA Models\")\n",
    "ax.legend((rects_1[0], rects_2[0]), ('RF', 'QDA'))\n",
    "plt.show()"
   ]
  }
 ],
 "metadata": {
  "anaconda-cloud": {},
  "kernelspec": {
   "display_name": "Python [Root]",
   "language": "python",
   "name": "Python [Root]"
  },
  "language_info": {
   "codemirror_mode": {
    "name": "ipython",
    "version": 2
   },
   "file_extension": ".py",
   "mimetype": "text/x-python",
   "name": "python",
   "nbconvert_exporter": "python",
   "pygments_lexer": "ipython2",
   "version": "2.7.12"
  }
 },
 "nbformat": 4,
 "nbformat_minor": 0
}
